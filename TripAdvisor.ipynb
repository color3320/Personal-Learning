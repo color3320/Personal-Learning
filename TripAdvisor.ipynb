{
 "cells": [
  {
   "cell_type": "code",
   "execution_count": 1,
   "id": "acf3013c",
   "metadata": {},
   "outputs": [],
   "source": [
    "import numpy as np\n",
    "import pandas as pd\n",
    "import matplotlib.pyplot as plt\n",
    "\n",
    "import seaborn as sns\n",
    "import tensorflow as tf\n",
    "import nltk\n",
    "\n",
    "from nltk.tokenize import word_tokenize\n",
    "from nltk.corpus import stopwords\n",
    "\n",
    "from IPython.display import HTML\n",
    "from nrclex import NRCLex"
   ]
  },
  {
   "cell_type": "markdown",
   "id": "7cccb374",
   "metadata": {},
   "source": [
    "\n",
    "Importing of data\n"
   ]
  },
  {
   "cell_type": "code",
   "execution_count": 2,
   "id": "8eede85d",
   "metadata": {},
   "outputs": [
    {
     "data": {
      "text/html": [
       "<div>\n",
       "<style scoped>\n",
       "    .dataframe tbody tr th:only-of-type {\n",
       "        vertical-align: middle;\n",
       "    }\n",
       "\n",
       "    .dataframe tbody tr th {\n",
       "        vertical-align: top;\n",
       "    }\n",
       "\n",
       "    .dataframe thead th {\n",
       "        text-align: right;\n",
       "    }\n",
       "</style>\n",
       "<table border=\"1\" class=\"dataframe\">\n",
       "  <thead>\n",
       "    <tr style=\"text-align: right;\">\n",
       "      <th></th>\n",
       "      <th>Review</th>\n",
       "      <th>Rating</th>\n",
       "    </tr>\n",
       "  </thead>\n",
       "  <tbody>\n",
       "    <tr>\n",
       "      <th>0</th>\n",
       "      <td>nice hotel expensive parking got good deal stay hotel anniversary, arrived late evening took advice previous reviews did valet parking, check quick easy, little disappointed non-existent view room room clean nice size, bed comfortable woke stiff neck high pillows, not soundproof like heard music room night morning loud bangs doors opening closing hear people talking hallway, maybe just noisy neighbors, aveda bath products nice, did not goldfish stay nice touch taken advantage staying longer, location great walking distance shopping, overall nice experience having pay 40 parking night,</td>\n",
       "      <td>4</td>\n",
       "    </tr>\n",
       "    <tr>\n",
       "      <th>1</th>\n",
       "      <td>ok nothing special charge diamond member hilton decided chain shot 20th anniversary seattle, start booked suite paid extra website description not, suite bedroom bathroom standard hotel room, took printed reservation desk showed said things like tv couch ect desk clerk told oh mixed suites description kimpton website sorry free breakfast, got kidding, embassy suits sitting room bathroom bedroom unlike kimpton calls suite, 5 day stay offer correct false advertising, send kimpton preferred guest website email asking failure provide suite advertised website reservation description furnished hard copy reservation printout website desk manager duty did not reply solution, send email trip guest survey did not follow email mail, guess tell concerned guest.the staff ranged indifferent not helpful, asked desk good breakfast spots neighborhood hood told no hotels, gee best breakfast spots seattle 1/2 block away convenient hotel does not know exist, arrived late night 11 pm inside run bellman busy chating cell phone help bags.prior arrival emailed hotel inform 20th anniversary half really picky wanted make sure good, got nice email saying like deliver bottle champagne chocolate covered strawberries room arrival celebrate, told needed foam pillows, arrival no champagne strawberries no foam pillows great room view alley high rise building good not better housekeeping staff cleaner room property, impressed left morning shopping room got short trips 2 hours, beds comfortable.not good ac-heat control 4 x 4 inch screen bring green shine directly eyes night, light sensitive tape controls.this not 4 start hotel clean business hotel super high rates, better chain hotels seattle,</td>\n",
       "      <td>2</td>\n",
       "    </tr>\n",
       "  </tbody>\n",
       "</table>\n",
       "</div>"
      ],
      "text/plain": [
       "                                                                                                                                                                                                                                                                                                                                                                                                                                                                                                                                                                                                                                                                                                                                                                                                                                                                                                                                                                                                                                                                                                                                                                                                                                                                                                                                                                                                                                                                                                                                                                                                                                                                                                                                                      Review  \\\n",
       "0                                                                                                                                                                                                                                                                                                                                                                                                                                                                                                                                                                                                                                                                                                                                                                                                                                                                                                                                                                                                                                                                                                                                          nice hotel expensive parking got good deal stay hotel anniversary, arrived late evening took advice previous reviews did valet parking, check quick easy, little disappointed non-existent view room room clean nice size, bed comfortable woke stiff neck high pillows, not soundproof like heard music room night morning loud bangs doors opening closing hear people talking hallway, maybe just noisy neighbors, aveda bath products nice, did not goldfish stay nice touch taken advantage staying longer, location great walking distance shopping, overall nice experience having pay 40 parking night,     \n",
       "1  ok nothing special charge diamond member hilton decided chain shot 20th anniversary seattle, start booked suite paid extra website description not, suite bedroom bathroom standard hotel room, took printed reservation desk showed said things like tv couch ect desk clerk told oh mixed suites description kimpton website sorry free breakfast, got kidding, embassy suits sitting room bathroom bedroom unlike kimpton calls suite, 5 day stay offer correct false advertising, send kimpton preferred guest website email asking failure provide suite advertised website reservation description furnished hard copy reservation printout website desk manager duty did not reply solution, send email trip guest survey did not follow email mail, guess tell concerned guest.the staff ranged indifferent not helpful, asked desk good breakfast spots neighborhood hood told no hotels, gee best breakfast spots seattle 1/2 block away convenient hotel does not know exist, arrived late night 11 pm inside run bellman busy chating cell phone help bags.prior arrival emailed hotel inform 20th anniversary half really picky wanted make sure good, got nice email saying like deliver bottle champagne chocolate covered strawberries room arrival celebrate, told needed foam pillows, arrival no champagne strawberries no foam pillows great room view alley high rise building good not better housekeeping staff cleaner room property, impressed left morning shopping room got short trips 2 hours, beds comfortable.not good ac-heat control 4 x 4 inch screen bring green shine directly eyes night, light sensitive tape controls.this not 4 start hotel clean business hotel super high rates, better chain hotels seattle,     \n",
       "\n",
       "   Rating  \n",
       "0       4  \n",
       "1       2  "
      ]
     },
     "execution_count": 2,
     "metadata": {},
     "output_type": "execute_result"
    }
   ],
   "source": [
    "data = pd.read_csv(r\"C:\\Users\\coloR_\\Desktop\\tripadvisor_hotel_reviews.csv\")\n",
    "pd.options.mode.chained_assignment = None\n",
    "pd.set_option(\"display.max_colwidth\", None)\n",
    "data.head(2)"
   ]
  },
  {
   "cell_type": "markdown",
   "id": "4568247d",
   "metadata": {},
   "source": [
    "\n",
    "Checking data\n"
   ]
  },
  {
   "cell_type": "code",
   "execution_count": 3,
   "id": "7695830e",
   "metadata": {},
   "outputs": [
    {
     "data": {
      "text/plain": [
       "Review    0\n",
       "Rating    0\n",
       "dtype: int64"
      ]
     },
     "execution_count": 3,
     "metadata": {},
     "output_type": "execute_result"
    }
   ],
   "source": [
    "data.isnull().sum()"
   ]
  },
  {
   "cell_type": "code",
   "execution_count": 4,
   "id": "f3b46578",
   "metadata": {},
   "outputs": [],
   "source": [
    "import re\n",
    "import spacy\n",
    "import string\n",
    "string.punctuation\n",
    "pd.options.mode.chained_assignment = None"
   ]
  },
  {
   "cell_type": "code",
   "execution_count": 5,
   "id": "436138f9",
   "metadata": {},
   "outputs": [],
   "source": [
    "data[\"Review\"] = data[\"Review\"].str.lower()"
   ]
  },
  {
   "cell_type": "markdown",
   "id": "184ad156",
   "metadata": {},
   "source": [
    "\n",
    "Removing punctuations - \n"
   ]
  },
  {
   "cell_type": "code",
   "execution_count": 6,
   "id": "aa5f1cab",
   "metadata": {},
   "outputs": [
    {
     "data": {
      "text/html": [
       "<div>\n",
       "<style scoped>\n",
       "    .dataframe tbody tr th:only-of-type {\n",
       "        vertical-align: middle;\n",
       "    }\n",
       "\n",
       "    .dataframe tbody tr th {\n",
       "        vertical-align: top;\n",
       "    }\n",
       "\n",
       "    .dataframe thead th {\n",
       "        text-align: right;\n",
       "    }\n",
       "</style>\n",
       "<table border=\"1\" class=\"dataframe\">\n",
       "  <thead>\n",
       "    <tr style=\"text-align: right;\">\n",
       "      <th></th>\n",
       "      <th>Review</th>\n",
       "      <th>Rating</th>\n",
       "      <th>text_with_no_punct</th>\n",
       "    </tr>\n",
       "  </thead>\n",
       "  <tbody>\n",
       "    <tr>\n",
       "      <th>0</th>\n",
       "      <td>nice hotel expensive parking got good deal stay hotel anniversary, arrived late evening took advice previous reviews did valet parking, check quick easy, little disappointed non-existent view room room clean nice size, bed comfortable woke stiff neck high pillows, not soundproof like heard music room night morning loud bangs doors opening closing hear people talking hallway, maybe just noisy neighbors, aveda bath products nice, did not goldfish stay nice touch taken advantage staying longer, location great walking distance shopping, overall nice experience having pay 40 parking night,</td>\n",
       "      <td>4</td>\n",
       "      <td>nice hotel expensive parking got good deal stay hotel anniversary arrived late evening took advice previous reviews did valet parking check quick easy little disappointed nonexistent view room room clean nice size bed comfortable woke stiff neck high pillows not soundproof like heard music room night morning loud bangs doors opening closing hear people talking hallway maybe just noisy neighbors aveda bath products nice did not goldfish stay nice touch taken advantage staying longer location great walking distance shopping overall nice experience having pay 40 parking night</td>\n",
       "    </tr>\n",
       "    <tr>\n",
       "      <th>1</th>\n",
       "      <td>ok nothing special charge diamond member hilton decided chain shot 20th anniversary seattle, start booked suite paid extra website description not, suite bedroom bathroom standard hotel room, took printed reservation desk showed said things like tv couch ect desk clerk told oh mixed suites description kimpton website sorry free breakfast, got kidding, embassy suits sitting room bathroom bedroom unlike kimpton calls suite, 5 day stay offer correct false advertising, send kimpton preferred guest website email asking failure provide suite advertised website reservation description furnished hard copy reservation printout website desk manager duty did not reply solution, send email trip guest survey did not follow email mail, guess tell concerned guest.the staff ranged indifferent not helpful, asked desk good breakfast spots neighborhood hood told no hotels, gee best breakfast spots seattle 1/2 block away convenient hotel does not know exist, arrived late night 11 pm inside run bellman busy chating cell phone help bags.prior arrival emailed hotel inform 20th anniversary half really picky wanted make sure good, got nice email saying like deliver bottle champagne chocolate covered strawberries room arrival celebrate, told needed foam pillows, arrival no champagne strawberries no foam pillows great room view alley high rise building good not better housekeeping staff cleaner room property, impressed left morning shopping room got short trips 2 hours, beds comfortable.not good ac-heat control 4 x 4 inch screen bring green shine directly eyes night, light sensitive tape controls.this not 4 start hotel clean business hotel super high rates, better chain hotels seattle,</td>\n",
       "      <td>2</td>\n",
       "      <td>ok nothing special charge diamond member hilton decided chain shot 20th anniversary seattle start booked suite paid extra website description not suite bedroom bathroom standard hotel room took printed reservation desk showed said things like tv couch ect desk clerk told oh mixed suites description kimpton website sorry free breakfast got kidding embassy suits sitting room bathroom bedroom unlike kimpton calls suite 5 day stay offer correct false advertising send kimpton preferred guest website email asking failure provide suite advertised website reservation description furnished hard copy reservation printout website desk manager duty did not reply solution send email trip guest survey did not follow email mail guess tell concerned guestthe staff ranged indifferent not helpful asked desk good breakfast spots neighborhood hood told no hotels gee best breakfast spots seattle 12 block away convenient hotel does not know exist arrived late night 11 pm inside run bellman busy chating cell phone help bagsprior arrival emailed hotel inform 20th anniversary half really picky wanted make sure good got nice email saying like deliver bottle champagne chocolate covered strawberries room arrival celebrate told needed foam pillows arrival no champagne strawberries no foam pillows great room view alley high rise building good not better housekeeping staff cleaner room property impressed left morning shopping room got short trips 2 hours beds comfortablenot good acheat control 4 x 4 inch screen bring green shine directly eyes night light sensitive tape controlsthis not 4 start hotel clean business hotel super high rates better chain hotels seattle</td>\n",
       "    </tr>\n",
       "    <tr>\n",
       "      <th>2</th>\n",
       "      <td>nice rooms not 4* experience hotel monaco seattle good hotel n't 4* level.positives large bathroom mediterranean suite comfortable bed pillowsattentive housekeeping staffnegatives ac unit malfunctioned stay desk disorganized, missed 3 separate wakeup calls, concierge busy hard touch, did n't provide guidance special requests.tv hard use ipod sound dock suite non functioning. decided book mediterranean suite 3 night weekend stay 1st choice rest party filled, comparison w spent 45 night larger square footage room great soaking tub whirlpool jets nice shower.before stay hotel arrange car service price 53 tip reasonable driver waiting arrival.checkin easy downside room picked 2 person jacuzi tub no bath accessories salts bubble bath did n't stay, night got 12/1a checked voucher bottle champagne nice gesture fish waiting room, impression room huge open space felt room big, tv far away bed chore change channel, ipod dock broken disappointing.in morning way asked desk check thermostat said 65f 74 2 degrees warm try cover face night bright blue light kept, got room night no, 1st drop desk, called maintainence came look thermostat told play settings happy digital box wo n't work, asked wakeup 10am morning did n't happen, called later 6pm nap wakeup forgot, 10am wakeup morning yep forgotten.the bathroom facilities great room surprised room sold whirlpool bath tub n't bath amenities, great relax water jets going,</td>\n",
       "      <td>3</td>\n",
       "      <td>nice rooms not 4 experience hotel monaco seattle good hotel nt 4 levelpositives large bathroom mediterranean suite comfortable bed pillowsattentive housekeeping staffnegatives ac unit malfunctioned stay desk disorganized missed 3 separate wakeup calls concierge busy hard touch did nt provide guidance special requeststv hard use ipod sound dock suite non functioning decided book mediterranean suite 3 night weekend stay 1st choice rest party filled comparison w spent 45 night larger square footage room great soaking tub whirlpool jets nice showerbefore stay hotel arrange car service price 53 tip reasonable driver waiting arrivalcheckin easy downside room picked 2 person jacuzi tub no bath accessories salts bubble bath did nt stay night got 121a checked voucher bottle champagne nice gesture fish waiting room impression room huge open space felt room big tv far away bed chore change channel ipod dock broken disappointingin morning way asked desk check thermostat said 65f 74 2 degrees warm try cover face night bright blue light kept got room night no 1st drop desk called maintainence came look thermostat told play settings happy digital box wo nt work asked wakeup 10am morning did nt happen called later 6pm nap wakeup forgot 10am wakeup morning yep forgottenthe bathroom facilities great room surprised room sold whirlpool bath tub nt bath amenities great relax water jets going</td>\n",
       "    </tr>\n",
       "    <tr>\n",
       "      <th>3</th>\n",
       "      <td>unique, great stay, wonderful time hotel monaco, location excellent short stroll main downtown shopping area, pet friendly room showed no signs animal hair smells, monaco suite sleeping area big striped curtains pulled closed nice touch felt cosy, goldfish named brandi enjoyed, did n't partake free wine coffee/tea service lobby thought great feature, great staff friendly, free wireless internet hotel worked suite 2 laptops, decor lovely eclectic mix pattens color palatte, animal print bathrobes feel like rock stars, nice did n't look like sterile chain hotel hotel personality excellent stay,</td>\n",
       "      <td>5</td>\n",
       "      <td>unique great stay wonderful time hotel monaco location excellent short stroll main downtown shopping area pet friendly room showed no signs animal hair smells monaco suite sleeping area big striped curtains pulled closed nice touch felt cosy goldfish named brandi enjoyed did nt partake free wine coffeetea service lobby thought great feature great staff friendly free wireless internet hotel worked suite 2 laptops decor lovely eclectic mix pattens color palatte animal print bathrobes feel like rock stars nice did nt look like sterile chain hotel hotel personality excellent stay</td>\n",
       "    </tr>\n",
       "    <tr>\n",
       "      <th>4</th>\n",
       "      <td>great stay great stay, went seahawk game awesome, downfall view building did n't complain, room huge staff helpful, booked hotels website seahawk package, no charge parking got voucher taxi, problem taxi driver did n't want accept voucher barely spoke english, funny thing speak arabic called started making comments girlfriend cell phone buddy, took second realize just said fact speak language face priceless, ass told, said large city, told head doorman issue called cab company promply answer did n't, apologized offered pay taxi, bucks 2 miles stadium, game plan taxi return going humpin, great walk did n't mind, right christmas wonderful lights, homeless stowed away building entrances leave, police presence not greatest area stadium, activities 7 blocks pike street waterfront great coffee shops way, hotel mantained foyer awesome, wine tasting available evening, best dog, taking st. bernard time family, safes hotel located service desk room, bathroom huge jetted tub huge, funny house keeping walked girlfriend getting dressed, did n't hear knock doing turn service, screamed girlfriend screams hit floor laughing, started talking spanish worked, place recommend price, check online deals just good not better, besite contains deals vouchers travel websites n't tell,</td>\n",
       "      <td>5</td>\n",
       "      <td>great stay great stay went seahawk game awesome downfall view building did nt complain room huge staff helpful booked hotels website seahawk package no charge parking got voucher taxi problem taxi driver did nt want accept voucher barely spoke english funny thing speak arabic called started making comments girlfriend cell phone buddy took second realize just said fact speak language face priceless ass told said large city told head doorman issue called cab company promply answer did nt apologized offered pay taxi bucks 2 miles stadium game plan taxi return going humpin great walk did nt mind right christmas wonderful lights homeless stowed away building entrances leave police presence not greatest area stadium activities 7 blocks pike street waterfront great coffee shops way hotel mantained foyer awesome wine tasting available evening best dog taking st bernard time family safes hotel located service desk room bathroom huge jetted tub huge funny house keeping walked girlfriend getting dressed did nt hear knock doing turn service screamed girlfriend screams hit floor laughing started talking spanish worked place recommend price check online deals just good not better besite contains deals vouchers travel websites nt tell</td>\n",
       "    </tr>\n",
       "  </tbody>\n",
       "</table>\n",
       "</div>"
      ],
      "text/plain": [
       "                                                                                                                                                                                                                                                                                                                                                                                                                                                                                                                                                                                                                                                                                                                                                                                                                                                                                                                                                                                                                                                                                                                                                                                                                                                                                                                                                                                                                                                                                                                                                                                                                                                                                                                                                      Review  \\\n",
       "0                                                                                                                                                                                                                                                                                                                                                                                                                                                                                                                                                                                                                                                                                                                                                                                                                                                                                                                                                                                                                                                                                                                                          nice hotel expensive parking got good deal stay hotel anniversary, arrived late evening took advice previous reviews did valet parking, check quick easy, little disappointed non-existent view room room clean nice size, bed comfortable woke stiff neck high pillows, not soundproof like heard music room night morning loud bangs doors opening closing hear people talking hallway, maybe just noisy neighbors, aveda bath products nice, did not goldfish stay nice touch taken advantage staying longer, location great walking distance shopping, overall nice experience having pay 40 parking night,     \n",
       "1  ok nothing special charge diamond member hilton decided chain shot 20th anniversary seattle, start booked suite paid extra website description not, suite bedroom bathroom standard hotel room, took printed reservation desk showed said things like tv couch ect desk clerk told oh mixed suites description kimpton website sorry free breakfast, got kidding, embassy suits sitting room bathroom bedroom unlike kimpton calls suite, 5 day stay offer correct false advertising, send kimpton preferred guest website email asking failure provide suite advertised website reservation description furnished hard copy reservation printout website desk manager duty did not reply solution, send email trip guest survey did not follow email mail, guess tell concerned guest.the staff ranged indifferent not helpful, asked desk good breakfast spots neighborhood hood told no hotels, gee best breakfast spots seattle 1/2 block away convenient hotel does not know exist, arrived late night 11 pm inside run bellman busy chating cell phone help bags.prior arrival emailed hotel inform 20th anniversary half really picky wanted make sure good, got nice email saying like deliver bottle champagne chocolate covered strawberries room arrival celebrate, told needed foam pillows, arrival no champagne strawberries no foam pillows great room view alley high rise building good not better housekeeping staff cleaner room property, impressed left morning shopping room got short trips 2 hours, beds comfortable.not good ac-heat control 4 x 4 inch screen bring green shine directly eyes night, light sensitive tape controls.this not 4 start hotel clean business hotel super high rates, better chain hotels seattle,     \n",
       "2                                                                                                                                                                                                                                                                        nice rooms not 4* experience hotel monaco seattle good hotel n't 4* level.positives large bathroom mediterranean suite comfortable bed pillowsattentive housekeeping staffnegatives ac unit malfunctioned stay desk disorganized, missed 3 separate wakeup calls, concierge busy hard touch, did n't provide guidance special requests.tv hard use ipod sound dock suite non functioning. decided book mediterranean suite 3 night weekend stay 1st choice rest party filled, comparison w spent 45 night larger square footage room great soaking tub whirlpool jets nice shower.before stay hotel arrange car service price 53 tip reasonable driver waiting arrival.checkin easy downside room picked 2 person jacuzi tub no bath accessories salts bubble bath did n't stay, night got 12/1a checked voucher bottle champagne nice gesture fish waiting room, impression room huge open space felt room big, tv far away bed chore change channel, ipod dock broken disappointing.in morning way asked desk check thermostat said 65f 74 2 degrees warm try cover face night bright blue light kept, got room night no, 1st drop desk, called maintainence came look thermostat told play settings happy digital box wo n't work, asked wakeup 10am morning did n't happen, called later 6pm nap wakeup forgot, 10am wakeup morning yep forgotten.the bathroom facilities great room surprised room sold whirlpool bath tub n't bath amenities, great relax water jets going,     \n",
       "3                                                                                                                                                                                                                                                                                                                                                                                                                                                                                                                                                                                                                                                                                                                                                                                                                                                                                                                                                                                                                                                                                                                                   unique, great stay, wonderful time hotel monaco, location excellent short stroll main downtown shopping area, pet friendly room showed no signs animal hair smells, monaco suite sleeping area big striped curtains pulled closed nice touch felt cosy, goldfish named brandi enjoyed, did n't partake free wine coffee/tea service lobby thought great feature, great staff friendly, free wireless internet hotel worked suite 2 laptops, decor lovely eclectic mix pattens color palatte, animal print bathrobes feel like rock stars, nice did n't look like sterile chain hotel hotel personality excellent stay,     \n",
       "4                                                                                                                                                                                                                                                                                                                                                                                                                          great stay great stay, went seahawk game awesome, downfall view building did n't complain, room huge staff helpful, booked hotels website seahawk package, no charge parking got voucher taxi, problem taxi driver did n't want accept voucher barely spoke english, funny thing speak arabic called started making comments girlfriend cell phone buddy, took second realize just said fact speak language face priceless, ass told, said large city, told head doorman issue called cab company promply answer did n't, apologized offered pay taxi, bucks 2 miles stadium, game plan taxi return going humpin, great walk did n't mind, right christmas wonderful lights, homeless stowed away building entrances leave, police presence not greatest area stadium, activities 7 blocks pike street waterfront great coffee shops way, hotel mantained foyer awesome, wine tasting available evening, best dog, taking st. bernard time family, safes hotel located service desk room, bathroom huge jetted tub huge, funny house keeping walked girlfriend getting dressed, did n't hear knock doing turn service, screamed girlfriend screams hit floor laughing, started talking spanish worked, place recommend price, check online deals just good not better, besite contains deals vouchers travel websites n't tell,     \n",
       "\n",
       "   Rating  \\\n",
       "0       4   \n",
       "1       2   \n",
       "2       3   \n",
       "3       5   \n",
       "4       5   \n",
       "\n",
       "                                                                                                                                                                                                                                                                                                                                                                                                                                                                                                                                                                                                                                                                                                                                                                                                                                                                                                                                                                                                                                                                                                                                                                                                                                                                                                                                                                                                                                                                                                                                                                                                                                                                                                                text_with_no_punct  \n",
       "0                                                                                                                                                                                                                                                                                                                                                                                                                                                                                                                                                                                                                                                                                                                                                                                                                                                                                                                                                                                                                                                                                                                            nice hotel expensive parking got good deal stay hotel anniversary arrived late evening took advice previous reviews did valet parking check quick easy little disappointed nonexistent view room room clean nice size bed comfortable woke stiff neck high pillows not soundproof like heard music room night morning loud bangs doors opening closing hear people talking hallway maybe just noisy neighbors aveda bath products nice did not goldfish stay nice touch taken advantage staying longer location great walking distance shopping overall nice experience having pay 40 parking night    \n",
       "1  ok nothing special charge diamond member hilton decided chain shot 20th anniversary seattle start booked suite paid extra website description not suite bedroom bathroom standard hotel room took printed reservation desk showed said things like tv couch ect desk clerk told oh mixed suites description kimpton website sorry free breakfast got kidding embassy suits sitting room bathroom bedroom unlike kimpton calls suite 5 day stay offer correct false advertising send kimpton preferred guest website email asking failure provide suite advertised website reservation description furnished hard copy reservation printout website desk manager duty did not reply solution send email trip guest survey did not follow email mail guess tell concerned guestthe staff ranged indifferent not helpful asked desk good breakfast spots neighborhood hood told no hotels gee best breakfast spots seattle 12 block away convenient hotel does not know exist arrived late night 11 pm inside run bellman busy chating cell phone help bagsprior arrival emailed hotel inform 20th anniversary half really picky wanted make sure good got nice email saying like deliver bottle champagne chocolate covered strawberries room arrival celebrate told needed foam pillows arrival no champagne strawberries no foam pillows great room view alley high rise building good not better housekeeping staff cleaner room property impressed left morning shopping room got short trips 2 hours beds comfortablenot good acheat control 4 x 4 inch screen bring green shine directly eyes night light sensitive tape controlsthis not 4 start hotel clean business hotel super high rates better chain hotels seattle    \n",
       "2                                                                                                                                                                                                                                                                              nice rooms not 4 experience hotel monaco seattle good hotel nt 4 levelpositives large bathroom mediterranean suite comfortable bed pillowsattentive housekeeping staffnegatives ac unit malfunctioned stay desk disorganized missed 3 separate wakeup calls concierge busy hard touch did nt provide guidance special requeststv hard use ipod sound dock suite non functioning decided book mediterranean suite 3 night weekend stay 1st choice rest party filled comparison w spent 45 night larger square footage room great soaking tub whirlpool jets nice showerbefore stay hotel arrange car service price 53 tip reasonable driver waiting arrivalcheckin easy downside room picked 2 person jacuzi tub no bath accessories salts bubble bath did nt stay night got 121a checked voucher bottle champagne nice gesture fish waiting room impression room huge open space felt room big tv far away bed chore change channel ipod dock broken disappointingin morning way asked desk check thermostat said 65f 74 2 degrees warm try cover face night bright blue light kept got room night no 1st drop desk called maintainence came look thermostat told play settings happy digital box wo nt work asked wakeup 10am morning did nt happen called later 6pm nap wakeup forgot 10am wakeup morning yep forgottenthe bathroom facilities great room surprised room sold whirlpool bath tub nt bath amenities great relax water jets going    \n",
       "3                                                                                                                                                                                                                                                                                                                                                                                                                                                                                                                                                                                                                                                                                                                                                                                                                                                                                                                                                                                                                                                                                                                         unique great stay wonderful time hotel monaco location excellent short stroll main downtown shopping area pet friendly room showed no signs animal hair smells monaco suite sleeping area big striped curtains pulled closed nice touch felt cosy goldfish named brandi enjoyed did nt partake free wine coffeetea service lobby thought great feature great staff friendly free wireless internet hotel worked suite 2 laptops decor lovely eclectic mix pattens color palatte animal print bathrobes feel like rock stars nice did nt look like sterile chain hotel hotel personality excellent stay    \n",
       "4                                                                                                                                                                                                                                                                                                                                                                                                                                        great stay great stay went seahawk game awesome downfall view building did nt complain room huge staff helpful booked hotels website seahawk package no charge parking got voucher taxi problem taxi driver did nt want accept voucher barely spoke english funny thing speak arabic called started making comments girlfriend cell phone buddy took second realize just said fact speak language face priceless ass told said large city told head doorman issue called cab company promply answer did nt apologized offered pay taxi bucks 2 miles stadium game plan taxi return going humpin great walk did nt mind right christmas wonderful lights homeless stowed away building entrances leave police presence not greatest area stadium activities 7 blocks pike street waterfront great coffee shops way hotel mantained foyer awesome wine tasting available evening best dog taking st bernard time family safes hotel located service desk room bathroom huge jetted tub huge funny house keeping walked girlfriend getting dressed did nt hear knock doing turn service screamed girlfriend screams hit floor laughing started talking spanish worked place recommend price check online deals just good not better besite contains deals vouchers travel websites nt tell    "
      ]
     },
     "execution_count": 6,
     "metadata": {},
     "output_type": "execute_result"
    }
   ],
   "source": [
    "def remove_punct(text):\n",
    "    no_punct = \"\".join([i for i in text if i not in string.punctuation])\n",
    "    return no_punct\n",
    "data[\"text_with_no_punct\"] = data[\"Review\"].apply(lambda x: remove_punct(x))\n",
    "data.head()"
   ]
  },
  {
   "cell_type": "markdown",
   "id": "b77451f2",
   "metadata": {},
   "source": [
    "\n",
    "Removing stopwords - \n"
   ]
  },
  {
   "cell_type": "code",
   "execution_count": 7,
   "id": "8b541e81",
   "metadata": {
    "scrolled": true
   },
   "outputs": [
    {
     "data": {
      "text/html": [
       "<div>\n",
       "<style scoped>\n",
       "    .dataframe tbody tr th:only-of-type {\n",
       "        vertical-align: middle;\n",
       "    }\n",
       "\n",
       "    .dataframe tbody tr th {\n",
       "        vertical-align: top;\n",
       "    }\n",
       "\n",
       "    .dataframe thead th {\n",
       "        text-align: right;\n",
       "    }\n",
       "</style>\n",
       "<table border=\"1\" class=\"dataframe\">\n",
       "  <thead>\n",
       "    <tr style=\"text-align: right;\">\n",
       "      <th></th>\n",
       "      <th>Review</th>\n",
       "      <th>Rating</th>\n",
       "      <th>text_with_no_punct</th>\n",
       "      <th>text_with_no_stopwords</th>\n",
       "    </tr>\n",
       "  </thead>\n",
       "  <tbody>\n",
       "    <tr>\n",
       "      <th>0</th>\n",
       "      <td>nice hotel expensive parking got good deal stay hotel anniversary, arrived late evening took advice previous reviews did valet parking, check quick easy, little disappointed non-existent view room room clean nice size, bed comfortable woke stiff neck high pillows, not soundproof like heard music room night morning loud bangs doors opening closing hear people talking hallway, maybe just noisy neighbors, aveda bath products nice, did not goldfish stay nice touch taken advantage staying longer, location great walking distance shopping, overall nice experience having pay 40 parking night,</td>\n",
       "      <td>4</td>\n",
       "      <td>nice hotel expensive parking got good deal stay hotel anniversary arrived late evening took advice previous reviews did valet parking check quick easy little disappointed nonexistent view room room clean nice size bed comfortable woke stiff neck high pillows not soundproof like heard music room night morning loud bangs doors opening closing hear people talking hallway maybe just noisy neighbors aveda bath products nice did not goldfish stay nice touch taken advantage staying longer location great walking distance shopping overall nice experience having pay 40 parking night</td>\n",
       "      <td>nice hotel expensive parking got good deal stay hotel anniversary arrived late evening took advice previous reviews valet parking check quick easy little disappointed nonexistent view room room clean nice size bed comfortable woke stiff neck high pillows soundproof like heard music room night morning loud bangs doors opening closing hear people talking hallway maybe noisy neighbors aveda bath products nice goldfish stay nice touch taken advantage staying longer location great walking distance shopping overall nice experience pay 40 parking night</td>\n",
       "    </tr>\n",
       "    <tr>\n",
       "      <th>1</th>\n",
       "      <td>ok nothing special charge diamond member hilton decided chain shot 20th anniversary seattle, start booked suite paid extra website description not, suite bedroom bathroom standard hotel room, took printed reservation desk showed said things like tv couch ect desk clerk told oh mixed suites description kimpton website sorry free breakfast, got kidding, embassy suits sitting room bathroom bedroom unlike kimpton calls suite, 5 day stay offer correct false advertising, send kimpton preferred guest website email asking failure provide suite advertised website reservation description furnished hard copy reservation printout website desk manager duty did not reply solution, send email trip guest survey did not follow email mail, guess tell concerned guest.the staff ranged indifferent not helpful, asked desk good breakfast spots neighborhood hood told no hotels, gee best breakfast spots seattle 1/2 block away convenient hotel does not know exist, arrived late night 11 pm inside run bellman busy chating cell phone help bags.prior arrival emailed hotel inform 20th anniversary half really picky wanted make sure good, got nice email saying like deliver bottle champagne chocolate covered strawberries room arrival celebrate, told needed foam pillows, arrival no champagne strawberries no foam pillows great room view alley high rise building good not better housekeeping staff cleaner room property, impressed left morning shopping room got short trips 2 hours, beds comfortable.not good ac-heat control 4 x 4 inch screen bring green shine directly eyes night, light sensitive tape controls.this not 4 start hotel clean business hotel super high rates, better chain hotels seattle,</td>\n",
       "      <td>2</td>\n",
       "      <td>ok nothing special charge diamond member hilton decided chain shot 20th anniversary seattle start booked suite paid extra website description not suite bedroom bathroom standard hotel room took printed reservation desk showed said things like tv couch ect desk clerk told oh mixed suites description kimpton website sorry free breakfast got kidding embassy suits sitting room bathroom bedroom unlike kimpton calls suite 5 day stay offer correct false advertising send kimpton preferred guest website email asking failure provide suite advertised website reservation description furnished hard copy reservation printout website desk manager duty did not reply solution send email trip guest survey did not follow email mail guess tell concerned guestthe staff ranged indifferent not helpful asked desk good breakfast spots neighborhood hood told no hotels gee best breakfast spots seattle 12 block away convenient hotel does not know exist arrived late night 11 pm inside run bellman busy chating cell phone help bagsprior arrival emailed hotel inform 20th anniversary half really picky wanted make sure good got nice email saying like deliver bottle champagne chocolate covered strawberries room arrival celebrate told needed foam pillows arrival no champagne strawberries no foam pillows great room view alley high rise building good not better housekeeping staff cleaner room property impressed left morning shopping room got short trips 2 hours beds comfortablenot good acheat control 4 x 4 inch screen bring green shine directly eyes night light sensitive tape controlsthis not 4 start hotel clean business hotel super high rates better chain hotels seattle</td>\n",
       "      <td>ok nothing special charge diamond member hilton decided chain shot 20th anniversary seattle start booked suite paid extra website description suite bedroom bathroom standard hotel room took printed reservation desk showed said things like tv couch ect desk clerk told oh mixed suites description kimpton website sorry free breakfast got kidding embassy suits sitting room bathroom bedroom unlike kimpton calls suite 5 day stay offer correct false advertising send kimpton preferred guest website email asking failure provide suite advertised website reservation description furnished hard copy reservation printout website desk manager duty reply solution send email trip guest survey follow email mail guess tell concerned guestthe staff ranged indifferent helpful asked desk good breakfast spots neighborhood hood told hotels gee best breakfast spots seattle 12 block away convenient hotel know exist arrived late night 11 pm inside run bellman busy chating cell phone help bagsprior arrival emailed hotel inform 20th anniversary half really picky wanted make sure good got nice email saying like deliver bottle champagne chocolate covered strawberries room arrival celebrate told needed foam pillows arrival champagne strawberries foam pillows great room view alley high rise building good better housekeeping staff cleaner room property impressed left morning shopping room got short trips 2 hours beds comfortablenot good acheat control 4 x 4 inch screen bring green shine directly eyes night light sensitive tape controlsthis 4 start hotel clean business hotel super high rates better chain hotels seattle</td>\n",
       "    </tr>\n",
       "  </tbody>\n",
       "</table>\n",
       "</div>"
      ],
      "text/plain": [
       "                                                                                                                                                                                                                                                                                                                                                                                                                                                                                                                                                                                                                                                                                                                                                                                                                                                                                                                                                                                                                                                                                                                                                                                                                                                                                                                                                                                                                                                                                                                                                                                                                                                                                                                                                      Review  \\\n",
       "0                                                                                                                                                                                                                                                                                                                                                                                                                                                                                                                                                                                                                                                                                                                                                                                                                                                                                                                                                                                                                                                                                                                                          nice hotel expensive parking got good deal stay hotel anniversary, arrived late evening took advice previous reviews did valet parking, check quick easy, little disappointed non-existent view room room clean nice size, bed comfortable woke stiff neck high pillows, not soundproof like heard music room night morning loud bangs doors opening closing hear people talking hallway, maybe just noisy neighbors, aveda bath products nice, did not goldfish stay nice touch taken advantage staying longer, location great walking distance shopping, overall nice experience having pay 40 parking night,     \n",
       "1  ok nothing special charge diamond member hilton decided chain shot 20th anniversary seattle, start booked suite paid extra website description not, suite bedroom bathroom standard hotel room, took printed reservation desk showed said things like tv couch ect desk clerk told oh mixed suites description kimpton website sorry free breakfast, got kidding, embassy suits sitting room bathroom bedroom unlike kimpton calls suite, 5 day stay offer correct false advertising, send kimpton preferred guest website email asking failure provide suite advertised website reservation description furnished hard copy reservation printout website desk manager duty did not reply solution, send email trip guest survey did not follow email mail, guess tell concerned guest.the staff ranged indifferent not helpful, asked desk good breakfast spots neighborhood hood told no hotels, gee best breakfast spots seattle 1/2 block away convenient hotel does not know exist, arrived late night 11 pm inside run bellman busy chating cell phone help bags.prior arrival emailed hotel inform 20th anniversary half really picky wanted make sure good, got nice email saying like deliver bottle champagne chocolate covered strawberries room arrival celebrate, told needed foam pillows, arrival no champagne strawberries no foam pillows great room view alley high rise building good not better housekeeping staff cleaner room property, impressed left morning shopping room got short trips 2 hours, beds comfortable.not good ac-heat control 4 x 4 inch screen bring green shine directly eyes night, light sensitive tape controls.this not 4 start hotel clean business hotel super high rates, better chain hotels seattle,     \n",
       "\n",
       "   Rating  \\\n",
       "0       4   \n",
       "1       2   \n",
       "\n",
       "                                                                                                                                                                                                                                                                                                                                                                                                                                                                                                                                                                                                                                                                                                                                                                                                                                                                                                                                                                                                                                                                                                                                                                                                                                                                                                                                                                                                                                                                                                                                                                                                                                                                                                                text_with_no_punct  \\\n",
       "0                                                                                                                                                                                                                                                                                                                                                                                                                                                                                                                                                                                                                                                                                                                                                                                                                                                                                                                                                                                                                                                                                                                            nice hotel expensive parking got good deal stay hotel anniversary arrived late evening took advice previous reviews did valet parking check quick easy little disappointed nonexistent view room room clean nice size bed comfortable woke stiff neck high pillows not soundproof like heard music room night morning loud bangs doors opening closing hear people talking hallway maybe just noisy neighbors aveda bath products nice did not goldfish stay nice touch taken advantage staying longer location great walking distance shopping overall nice experience having pay 40 parking night     \n",
       "1  ok nothing special charge diamond member hilton decided chain shot 20th anniversary seattle start booked suite paid extra website description not suite bedroom bathroom standard hotel room took printed reservation desk showed said things like tv couch ect desk clerk told oh mixed suites description kimpton website sorry free breakfast got kidding embassy suits sitting room bathroom bedroom unlike kimpton calls suite 5 day stay offer correct false advertising send kimpton preferred guest website email asking failure provide suite advertised website reservation description furnished hard copy reservation printout website desk manager duty did not reply solution send email trip guest survey did not follow email mail guess tell concerned guestthe staff ranged indifferent not helpful asked desk good breakfast spots neighborhood hood told no hotels gee best breakfast spots seattle 12 block away convenient hotel does not know exist arrived late night 11 pm inside run bellman busy chating cell phone help bagsprior arrival emailed hotel inform 20th anniversary half really picky wanted make sure good got nice email saying like deliver bottle champagne chocolate covered strawberries room arrival celebrate told needed foam pillows arrival no champagne strawberries no foam pillows great room view alley high rise building good not better housekeeping staff cleaner room property impressed left morning shopping room got short trips 2 hours beds comfortablenot good acheat control 4 x 4 inch screen bring green shine directly eyes night light sensitive tape controlsthis not 4 start hotel clean business hotel super high rates better chain hotels seattle     \n",
       "\n",
       "                                                                                                                                                                                                                                                                                                                                                                                                                                                                                                                                                                                                                                                                                                                                                                                                                                                                                                                                                                                                                                                                                                                                                                                                                                                                                                                                                                                                                                                                                                                                                                                                                                                        text_with_no_stopwords  \n",
       "0                                                                                                                                                                                                                                                                                                                                                                                                                                                                                                                                                                                                                                                                                                                                                                                                                                                                                                                                                                                                                                                                                                      nice hotel expensive parking got good deal stay hotel anniversary arrived late evening took advice previous reviews valet parking check quick easy little disappointed nonexistent view room room clean nice size bed comfortable woke stiff neck high pillows soundproof like heard music room night morning loud bangs doors opening closing hear people talking hallway maybe noisy neighbors aveda bath products nice goldfish stay nice touch taken advantage staying longer location great walking distance shopping overall nice experience pay 40 parking night  \n",
       "1  ok nothing special charge diamond member hilton decided chain shot 20th anniversary seattle start booked suite paid extra website description suite bedroom bathroom standard hotel room took printed reservation desk showed said things like tv couch ect desk clerk told oh mixed suites description kimpton website sorry free breakfast got kidding embassy suits sitting room bathroom bedroom unlike kimpton calls suite 5 day stay offer correct false advertising send kimpton preferred guest website email asking failure provide suite advertised website reservation description furnished hard copy reservation printout website desk manager duty reply solution send email trip guest survey follow email mail guess tell concerned guestthe staff ranged indifferent helpful asked desk good breakfast spots neighborhood hood told hotels gee best breakfast spots seattle 12 block away convenient hotel know exist arrived late night 11 pm inside run bellman busy chating cell phone help bagsprior arrival emailed hotel inform 20th anniversary half really picky wanted make sure good got nice email saying like deliver bottle champagne chocolate covered strawberries room arrival celebrate told needed foam pillows arrival champagne strawberries foam pillows great room view alley high rise building good better housekeeping staff cleaner room property impressed left morning shopping room got short trips 2 hours beds comfortablenot good acheat control 4 x 4 inch screen bring green shine directly eyes night light sensitive tape controlsthis 4 start hotel clean business hotel super high rates better chain hotels seattle  "
      ]
     },
     "execution_count": 7,
     "metadata": {},
     "output_type": "execute_result"
    }
   ],
   "source": [
    "stopwords = nltk.corpus.stopwords.words(\"english\")\n",
    "def remove_stopwords(text) :\n",
    "    return \" \".join([word for word in str(text).split() if word not in stopwords])\n",
    "data[\"text_with_no_stopwords\"] = data[\"text_with_no_punct\"].apply(lambda x:remove_stopwords(x))\n",
    "data.head(2)"
   ]
  },
  {
   "cell_type": "markdown",
   "id": "37dafa22",
   "metadata": {},
   "source": [
    "\n",
    "Lemmatization\n"
   ]
  },
  {
   "cell_type": "code",
   "execution_count": 8,
   "id": "822a04ee",
   "metadata": {},
   "outputs": [],
   "source": [
    "from nltk.corpus import wordnet\n",
    "from nltk.stem import WordNetLemmatizer"
   ]
  },
  {
   "cell_type": "code",
   "execution_count": 9,
   "id": "716eaf12",
   "metadata": {},
   "outputs": [
    {
     "data": {
      "text/html": [
       "<div>\n",
       "<style scoped>\n",
       "    .dataframe tbody tr th:only-of-type {\n",
       "        vertical-align: middle;\n",
       "    }\n",
       "\n",
       "    .dataframe tbody tr th {\n",
       "        vertical-align: top;\n",
       "    }\n",
       "\n",
       "    .dataframe thead th {\n",
       "        text-align: right;\n",
       "    }\n",
       "</style>\n",
       "<table border=\"1\" class=\"dataframe\">\n",
       "  <thead>\n",
       "    <tr style=\"text-align: right;\">\n",
       "      <th></th>\n",
       "      <th>Review</th>\n",
       "      <th>Rating</th>\n",
       "      <th>text_with_no_punct</th>\n",
       "      <th>text_with_no_stopwords</th>\n",
       "      <th>final_reviews</th>\n",
       "    </tr>\n",
       "  </thead>\n",
       "  <tbody>\n",
       "    <tr>\n",
       "      <th>0</th>\n",
       "      <td>nice hotel expensive parking got good deal stay hotel anniversary, arrived late evening took advice previous reviews did valet parking, check quick easy, little disappointed non-existent view room room clean nice size, bed comfortable woke stiff neck high pillows, not soundproof like heard music room night morning loud bangs doors opening closing hear people talking hallway, maybe just noisy neighbors, aveda bath products nice, did not goldfish stay nice touch taken advantage staying longer, location great walking distance shopping, overall nice experience having pay 40 parking night,</td>\n",
       "      <td>4</td>\n",
       "      <td>nice hotel expensive parking got good deal stay hotel anniversary arrived late evening took advice previous reviews did valet parking check quick easy little disappointed nonexistent view room room clean nice size bed comfortable woke stiff neck high pillows not soundproof like heard music room night morning loud bangs doors opening closing hear people talking hallway maybe just noisy neighbors aveda bath products nice did not goldfish stay nice touch taken advantage staying longer location great walking distance shopping overall nice experience having pay 40 parking night</td>\n",
       "      <td>nice hotel expensive parking got good deal stay hotel anniversary arrived late evening took advice previous reviews valet parking check quick easy little disappointed nonexistent view room room clean nice size bed comfortable woke stiff neck high pillows soundproof like heard music room night morning loud bangs doors opening closing hear people talking hallway maybe noisy neighbors aveda bath products nice goldfish stay nice touch taken advantage staying longer location great walking distance shopping overall nice experience pay 40 parking night</td>\n",
       "      <td>nice hotel expensive parking get good deal stay hotel anniversary arrive late evening take advice previous review valet park check quick easy little disappointed nonexistent view room room clean nice size bed comfortable woke stiff neck high pillow soundproof like heard music room night morning loud bang door open closing hear people talk hallway maybe noisy neighbor aveda bath product nice goldfish stay nice touch take advantage stay long location great walk distance shop overall nice experience pay 40 parking night</td>\n",
       "    </tr>\n",
       "    <tr>\n",
       "      <th>1</th>\n",
       "      <td>ok nothing special charge diamond member hilton decided chain shot 20th anniversary seattle, start booked suite paid extra website description not, suite bedroom bathroom standard hotel room, took printed reservation desk showed said things like tv couch ect desk clerk told oh mixed suites description kimpton website sorry free breakfast, got kidding, embassy suits sitting room bathroom bedroom unlike kimpton calls suite, 5 day stay offer correct false advertising, send kimpton preferred guest website email asking failure provide suite advertised website reservation description furnished hard copy reservation printout website desk manager duty did not reply solution, send email trip guest survey did not follow email mail, guess tell concerned guest.the staff ranged indifferent not helpful, asked desk good breakfast spots neighborhood hood told no hotels, gee best breakfast spots seattle 1/2 block away convenient hotel does not know exist, arrived late night 11 pm inside run bellman busy chating cell phone help bags.prior arrival emailed hotel inform 20th anniversary half really picky wanted make sure good, got nice email saying like deliver bottle champagne chocolate covered strawberries room arrival celebrate, told needed foam pillows, arrival no champagne strawberries no foam pillows great room view alley high rise building good not better housekeeping staff cleaner room property, impressed left morning shopping room got short trips 2 hours, beds comfortable.not good ac-heat control 4 x 4 inch screen bring green shine directly eyes night, light sensitive tape controls.this not 4 start hotel clean business hotel super high rates, better chain hotels seattle,</td>\n",
       "      <td>2</td>\n",
       "      <td>ok nothing special charge diamond member hilton decided chain shot 20th anniversary seattle start booked suite paid extra website description not suite bedroom bathroom standard hotel room took printed reservation desk showed said things like tv couch ect desk clerk told oh mixed suites description kimpton website sorry free breakfast got kidding embassy suits sitting room bathroom bedroom unlike kimpton calls suite 5 day stay offer correct false advertising send kimpton preferred guest website email asking failure provide suite advertised website reservation description furnished hard copy reservation printout website desk manager duty did not reply solution send email trip guest survey did not follow email mail guess tell concerned guestthe staff ranged indifferent not helpful asked desk good breakfast spots neighborhood hood told no hotels gee best breakfast spots seattle 12 block away convenient hotel does not know exist arrived late night 11 pm inside run bellman busy chating cell phone help bagsprior arrival emailed hotel inform 20th anniversary half really picky wanted make sure good got nice email saying like deliver bottle champagne chocolate covered strawberries room arrival celebrate told needed foam pillows arrival no champagne strawberries no foam pillows great room view alley high rise building good not better housekeeping staff cleaner room property impressed left morning shopping room got short trips 2 hours beds comfortablenot good acheat control 4 x 4 inch screen bring green shine directly eyes night light sensitive tape controlsthis not 4 start hotel clean business hotel super high rates better chain hotels seattle</td>\n",
       "      <td>ok nothing special charge diamond member hilton decided chain shot 20th anniversary seattle start booked suite paid extra website description suite bedroom bathroom standard hotel room took printed reservation desk showed said things like tv couch ect desk clerk told oh mixed suites description kimpton website sorry free breakfast got kidding embassy suits sitting room bathroom bedroom unlike kimpton calls suite 5 day stay offer correct false advertising send kimpton preferred guest website email asking failure provide suite advertised website reservation description furnished hard copy reservation printout website desk manager duty reply solution send email trip guest survey follow email mail guess tell concerned guestthe staff ranged indifferent helpful asked desk good breakfast spots neighborhood hood told hotels gee best breakfast spots seattle 12 block away convenient hotel know exist arrived late night 11 pm inside run bellman busy chating cell phone help bagsprior arrival emailed hotel inform 20th anniversary half really picky wanted make sure good got nice email saying like deliver bottle champagne chocolate covered strawberries room arrival celebrate told needed foam pillows arrival champagne strawberries foam pillows great room view alley high rise building good better housekeeping staff cleaner room property impressed left morning shopping room got short trips 2 hours beds comfortablenot good acheat control 4 x 4 inch screen bring green shine directly eyes night light sensitive tape controlsthis 4 start hotel clean business hotel super high rates better chain hotels seattle</td>\n",
       "      <td>ok nothing special charge diamond member hilton decide chain shot 20th anniversary seattle start book suite pay extra website description suite bedroom bathroom standard hotel room take printed reservation desk show say thing like tv couch ect desk clerk tell oh mixed suite description kimpton website sorry free breakfast get kid embassy suit sit room bathroom bedroom unlike kimpton call suite 5 day stay offer correct false advertising send kimpton prefer guest website email ask failure provide suite advertise website reservation description furnish hard copy reservation printout website desk manager duty reply solution send email trip guest survey follow email mail guess tell concern guestthe staff range indifferent helpful ask desk good breakfast spot neighborhood hood tell hotel gee best breakfast spot seattle 12 block away convenient hotel know exist arrive late night 11 pm inside run bellman busy chat cell phone help bagsprior arrival emailed hotel inform 20th anniversary half really picky want make sure good get nice email say like deliver bottle champagne chocolate cover strawberry room arrival celebrate tell need foam pillow arrival champagne strawberry foam pillow great room view alley high rise building good well housekeep staff clean room property impressed leave morning shopping room get short trip 2 hour bed comfortablenot good acheat control 4 x 4 inch screen bring green shine directly eyes night light sensitive tape controlsthis 4 start hotel clean business hotel super high rate better chain hotel seattle</td>\n",
       "    </tr>\n",
       "  </tbody>\n",
       "</table>\n",
       "</div>"
      ],
      "text/plain": [
       "                                                                                                                                                                                                                                                                                                                                                                                                                                                                                                                                                                                                                                                                                                                                                                                                                                                                                                                                                                                                                                                                                                                                                                                                                                                                                                                                                                                                                                                                                                                                                                                                                                                                                                                                                      Review  \\\n",
       "0                                                                                                                                                                                                                                                                                                                                                                                                                                                                                                                                                                                                                                                                                                                                                                                                                                                                                                                                                                                                                                                                                                                                          nice hotel expensive parking got good deal stay hotel anniversary, arrived late evening took advice previous reviews did valet parking, check quick easy, little disappointed non-existent view room room clean nice size, bed comfortable woke stiff neck high pillows, not soundproof like heard music room night morning loud bangs doors opening closing hear people talking hallway, maybe just noisy neighbors, aveda bath products nice, did not goldfish stay nice touch taken advantage staying longer, location great walking distance shopping, overall nice experience having pay 40 parking night,     \n",
       "1  ok nothing special charge diamond member hilton decided chain shot 20th anniversary seattle, start booked suite paid extra website description not, suite bedroom bathroom standard hotel room, took printed reservation desk showed said things like tv couch ect desk clerk told oh mixed suites description kimpton website sorry free breakfast, got kidding, embassy suits sitting room bathroom bedroom unlike kimpton calls suite, 5 day stay offer correct false advertising, send kimpton preferred guest website email asking failure provide suite advertised website reservation description furnished hard copy reservation printout website desk manager duty did not reply solution, send email trip guest survey did not follow email mail, guess tell concerned guest.the staff ranged indifferent not helpful, asked desk good breakfast spots neighborhood hood told no hotels, gee best breakfast spots seattle 1/2 block away convenient hotel does not know exist, arrived late night 11 pm inside run bellman busy chating cell phone help bags.prior arrival emailed hotel inform 20th anniversary half really picky wanted make sure good, got nice email saying like deliver bottle champagne chocolate covered strawberries room arrival celebrate, told needed foam pillows, arrival no champagne strawberries no foam pillows great room view alley high rise building good not better housekeeping staff cleaner room property, impressed left morning shopping room got short trips 2 hours, beds comfortable.not good ac-heat control 4 x 4 inch screen bring green shine directly eyes night, light sensitive tape controls.this not 4 start hotel clean business hotel super high rates, better chain hotels seattle,     \n",
       "\n",
       "   Rating  \\\n",
       "0       4   \n",
       "1       2   \n",
       "\n",
       "                                                                                                                                                                                                                                                                                                                                                                                                                                                                                                                                                                                                                                                                                                                                                                                                                                                                                                                                                                                                                                                                                                                                                                                                                                                                                                                                                                                                                                                                                                                                                                                                                                                                                                                text_with_no_punct  \\\n",
       "0                                                                                                                                                                                                                                                                                                                                                                                                                                                                                                                                                                                                                                                                                                                                                                                                                                                                                                                                                                                                                                                                                                                            nice hotel expensive parking got good deal stay hotel anniversary arrived late evening took advice previous reviews did valet parking check quick easy little disappointed nonexistent view room room clean nice size bed comfortable woke stiff neck high pillows not soundproof like heard music room night morning loud bangs doors opening closing hear people talking hallway maybe just noisy neighbors aveda bath products nice did not goldfish stay nice touch taken advantage staying longer location great walking distance shopping overall nice experience having pay 40 parking night     \n",
       "1  ok nothing special charge diamond member hilton decided chain shot 20th anniversary seattle start booked suite paid extra website description not suite bedroom bathroom standard hotel room took printed reservation desk showed said things like tv couch ect desk clerk told oh mixed suites description kimpton website sorry free breakfast got kidding embassy suits sitting room bathroom bedroom unlike kimpton calls suite 5 day stay offer correct false advertising send kimpton preferred guest website email asking failure provide suite advertised website reservation description furnished hard copy reservation printout website desk manager duty did not reply solution send email trip guest survey did not follow email mail guess tell concerned guestthe staff ranged indifferent not helpful asked desk good breakfast spots neighborhood hood told no hotels gee best breakfast spots seattle 12 block away convenient hotel does not know exist arrived late night 11 pm inside run bellman busy chating cell phone help bagsprior arrival emailed hotel inform 20th anniversary half really picky wanted make sure good got nice email saying like deliver bottle champagne chocolate covered strawberries room arrival celebrate told needed foam pillows arrival no champagne strawberries no foam pillows great room view alley high rise building good not better housekeeping staff cleaner room property impressed left morning shopping room got short trips 2 hours beds comfortablenot good acheat control 4 x 4 inch screen bring green shine directly eyes night light sensitive tape controlsthis not 4 start hotel clean business hotel super high rates better chain hotels seattle     \n",
       "\n",
       "                                                                                                                                                                                                                                                                                                                                                                                                                                                                                                                                                                                                                                                                                                                                                                                                                                                                                                                                                                                                                                                                                                                                                                                                                                                                                                                                                                                                                                                                                                                                                                                                                                                        text_with_no_stopwords  \\\n",
       "0                                                                                                                                                                                                                                                                                                                                                                                                                                                                                                                                                                                                                                                                                                                                                                                                                                                                                                                                                                                                                                                                                                      nice hotel expensive parking got good deal stay hotel anniversary arrived late evening took advice previous reviews valet parking check quick easy little disappointed nonexistent view room room clean nice size bed comfortable woke stiff neck high pillows soundproof like heard music room night morning loud bangs doors opening closing hear people talking hallway maybe noisy neighbors aveda bath products nice goldfish stay nice touch taken advantage staying longer location great walking distance shopping overall nice experience pay 40 parking night   \n",
       "1  ok nothing special charge diamond member hilton decided chain shot 20th anniversary seattle start booked suite paid extra website description suite bedroom bathroom standard hotel room took printed reservation desk showed said things like tv couch ect desk clerk told oh mixed suites description kimpton website sorry free breakfast got kidding embassy suits sitting room bathroom bedroom unlike kimpton calls suite 5 day stay offer correct false advertising send kimpton preferred guest website email asking failure provide suite advertised website reservation description furnished hard copy reservation printout website desk manager duty reply solution send email trip guest survey follow email mail guess tell concerned guestthe staff ranged indifferent helpful asked desk good breakfast spots neighborhood hood told hotels gee best breakfast spots seattle 12 block away convenient hotel know exist arrived late night 11 pm inside run bellman busy chating cell phone help bagsprior arrival emailed hotel inform 20th anniversary half really picky wanted make sure good got nice email saying like deliver bottle champagne chocolate covered strawberries room arrival celebrate told needed foam pillows arrival champagne strawberries foam pillows great room view alley high rise building good better housekeeping staff cleaner room property impressed left morning shopping room got short trips 2 hours beds comfortablenot good acheat control 4 x 4 inch screen bring green shine directly eyes night light sensitive tape controlsthis 4 start hotel clean business hotel super high rates better chain hotels seattle   \n",
       "\n",
       "                                                                                                                                                                                                                                                                                                                                                                                                                                                                                                                                                                                                                                                                                                                                                                                                                                                                                                                                                                                                                                                                                                                                                                                                                                                                                                                                                                                                                                                                                                                                                                                               final_reviews  \n",
       "0                                                                                                                                                                                                                                                                                                                                                                                                                                                                                                                                                                                                                                                                                                                                                                                                                                                                                                                                                                                                                                                                 nice hotel expensive parking get good deal stay hotel anniversary arrive late evening take advice previous review valet park check quick easy little disappointed nonexistent view room room clean nice size bed comfortable woke stiff neck high pillow soundproof like heard music room night morning loud bang door open closing hear people talk hallway maybe noisy neighbor aveda bath product nice goldfish stay nice touch take advantage stay long location great walk distance shop overall nice experience pay 40 parking night  \n",
       "1  ok nothing special charge diamond member hilton decide chain shot 20th anniversary seattle start book suite pay extra website description suite bedroom bathroom standard hotel room take printed reservation desk show say thing like tv couch ect desk clerk tell oh mixed suite description kimpton website sorry free breakfast get kid embassy suit sit room bathroom bedroom unlike kimpton call suite 5 day stay offer correct false advertising send kimpton prefer guest website email ask failure provide suite advertise website reservation description furnish hard copy reservation printout website desk manager duty reply solution send email trip guest survey follow email mail guess tell concern guestthe staff range indifferent helpful ask desk good breakfast spot neighborhood hood tell hotel gee best breakfast spot seattle 12 block away convenient hotel know exist arrive late night 11 pm inside run bellman busy chat cell phone help bagsprior arrival emailed hotel inform 20th anniversary half really picky want make sure good get nice email say like deliver bottle champagne chocolate cover strawberry room arrival celebrate tell need foam pillow arrival champagne strawberry foam pillow great room view alley high rise building good well housekeep staff clean room property impressed leave morning shopping room get short trip 2 hour bed comfortablenot good acheat control 4 x 4 inch screen bring green shine directly eyes night light sensitive tape controlsthis 4 start hotel clean business hotel super high rate better chain hotel seattle  "
      ]
     },
     "execution_count": 9,
     "metadata": {},
     "output_type": "execute_result"
    }
   ],
   "source": [
    "lemmatizer = WordNetLemmatizer()\n",
    "wordnet_m = {\"N\":wordnet.NOUN, \"V\":wordnet.VERB, \"J\":wordnet.ADJ, \"R\":wordnet.ADV}\n",
    "\n",
    "\n",
    "def lemmat_pos_word(text):\n",
    "    \n",
    "    pos_tagger_text = nltk.pos_tag(text.split())\n",
    "    \n",
    "    return \" \".join([lemmatizer.lemmatize(word, wordnet_m.get(pos[0],wordnet.NOUN)) for word,pos in pos_tagger_text])\n",
    "\n",
    "\n",
    "\n",
    "data['final_reviews'] = data['text_with_no_stopwords'].apply(lambda T : lemmat_pos_word(T))\n",
    "\n",
    "data.head(2)"
   ]
  },
  {
   "cell_type": "code",
   "execution_count": 10,
   "id": "90ff3ae7",
   "metadata": {},
   "outputs": [
    {
     "data": {
      "text/plain": [
       "Index(['Review', 'Rating', 'text_with_no_punct', 'text_with_no_stopwords',\n",
       "       'final_reviews'],\n",
       "      dtype='object')"
      ]
     },
     "execution_count": 10,
     "metadata": {},
     "output_type": "execute_result"
    }
   ],
   "source": [
    "data.columns"
   ]
  },
  {
   "cell_type": "code",
   "execution_count": 11,
   "id": "cf9ec3d2",
   "metadata": {},
   "outputs": [],
   "source": [
    "data.drop(['Review', 'text_with_no_punct', 'text_with_no_stopwords',],axis= 1,inplace = True)"
   ]
  },
  {
   "cell_type": "code",
   "execution_count": 12,
   "id": "9e588c49",
   "metadata": {},
   "outputs": [
    {
     "data": {
      "text/plain": [
       "array([4, 2, 3, 5, 1], dtype=int64)"
      ]
     },
     "execution_count": 12,
     "metadata": {},
     "output_type": "execute_result"
    }
   ],
   "source": [
    "data['Rating'].unique()"
   ]
  },
  {
   "cell_type": "code",
   "execution_count": 13,
   "id": "37fff6ae",
   "metadata": {},
   "outputs": [
    {
     "data": {
      "text/html": [
       "<div>\n",
       "<style scoped>\n",
       "    .dataframe tbody tr th:only-of-type {\n",
       "        vertical-align: middle;\n",
       "    }\n",
       "\n",
       "    .dataframe tbody tr th {\n",
       "        vertical-align: top;\n",
       "    }\n",
       "\n",
       "    .dataframe thead th {\n",
       "        text-align: right;\n",
       "    }\n",
       "</style>\n",
       "<table border=\"1\" class=\"dataframe\">\n",
       "  <thead>\n",
       "    <tr style=\"text-align: right;\">\n",
       "      <th></th>\n",
       "      <th>Rating</th>\n",
       "      <th>final_reviews</th>\n",
       "    </tr>\n",
       "  </thead>\n",
       "  <tbody>\n",
       "    <tr>\n",
       "      <th>0</th>\n",
       "      <td>4</td>\n",
       "      <td>nice hotel expensive parking get good deal stay hotel anniversary arrive late evening take advice previous review valet park check quick easy little disappointed nonexistent view room room clean nice size bed comfortable woke stiff neck high pillow soundproof like heard music room night morning loud bang door open closing hear people talk hallway maybe noisy neighbor aveda bath product nice goldfish stay nice touch take advantage stay long location great walk distance shop overall nice experience pay 40 parking night</td>\n",
       "    </tr>\n",
       "    <tr>\n",
       "      <th>1</th>\n",
       "      <td>2</td>\n",
       "      <td>ok nothing special charge diamond member hilton decide chain shot 20th anniversary seattle start book suite pay extra website description suite bedroom bathroom standard hotel room take printed reservation desk show say thing like tv couch ect desk clerk tell oh mixed suite description kimpton website sorry free breakfast get kid embassy suit sit room bathroom bedroom unlike kimpton call suite 5 day stay offer correct false advertising send kimpton prefer guest website email ask failure provide suite advertise website reservation description furnish hard copy reservation printout website desk manager duty reply solution send email trip guest survey follow email mail guess tell concern guestthe staff range indifferent helpful ask desk good breakfast spot neighborhood hood tell hotel gee best breakfast spot seattle 12 block away convenient hotel know exist arrive late night 11 pm inside run bellman busy chat cell phone help bagsprior arrival emailed hotel inform 20th anniversary half really picky want make sure good get nice email say like deliver bottle champagne chocolate cover strawberry room arrival celebrate tell need foam pillow arrival champagne strawberry foam pillow great room view alley high rise building good well housekeep staff clean room property impressed leave morning shopping room get short trip 2 hour bed comfortablenot good acheat control 4 x 4 inch screen bring green shine directly eyes night light sensitive tape controlsthis 4 start hotel clean business hotel super high rate better chain hotel seattle</td>\n",
       "    </tr>\n",
       "    <tr>\n",
       "      <th>2</th>\n",
       "      <td>3</td>\n",
       "      <td>nice room 4 experience hotel monaco seattle good hotel nt 4 levelpositives large bathroom mediterranean suite comfortable bed pillowsattentive housekeeping staffnegatives ac unit malfunction stay desk disorganize miss 3 separate wakeup call concierge busy hard touch nt provide guidance special requeststv hard use ipod sound dock suite non function decide book mediterranean suite 3 night weekend stay 1st choice rest party fill comparison w spent 45 night large square footage room great soak tub whirlpool jet nice showerbefore stay hotel arrange car service price 53 tip reasonable driver wait arrivalcheckin easy downside room pick 2 person jacuzi tub bath accessory salt bubble bath nt stay night get 121a check voucher bottle champagne nice gesture fish waiting room impression room huge open space felt room big tv far away bed chore change channel ipod dock break disappointingin morning way ask desk check thermostat say 65f 74 2 degree warm try cover face night bright blue light keep get room night 1st drop desk call maintainence come look thermostat tell play setting happy digital box wo nt work ask wakeup 10am morning nt happen call later 6pm nap wakeup forget 10am wakeup morning yep forgottenthe bathroom facility great room surprise room sell whirlpool bath tub nt bath amenity great relax water jet go</td>\n",
       "    </tr>\n",
       "    <tr>\n",
       "      <th>3</th>\n",
       "      <td>5</td>\n",
       "      <td>unique great stay wonderful time hotel monaco location excellent short stroll main downtown shop area pet friendly room show sign animal hair smell monaco suite sleep area big strip curtain pull closed nice touch felt cosy goldfish name brandi enjoy nt partake free wine coffeetea service lobby think great feature great staff friendly free wireless internet hotel work suite 2 laptop decor lovely eclectic mix patten color palatte animal print bathrobe feel like rock star nice nt look like sterile chain hotel hotel personality excellent stay</td>\n",
       "    </tr>\n",
       "    <tr>\n",
       "      <th>4</th>\n",
       "      <td>5</td>\n",
       "      <td>great stay great stay go seahawk game awesome downfall view build nt complain room huge staff helpful book hotel website seahawk package charge park get voucher taxi problem taxi driver nt want accept voucher barely speak english funny thing speak arabic call start make comment girlfriend cell phone buddy take second realize say fact speak language face priceless as tell say large city tell head doorman issue call cab company promply answer nt apologize offer pay taxi buck 2 mile stadium game plan taxi return go humpin great walk nt mind right christmas wonderful light homeless stow away build entrance leave police presence great area stadium activity 7 block pike street waterfront great coffee shop way hotel mantained foyer awesome wine taste available even best dog take st bernard time family safes hotel locate service desk room bathroom huge jet tub huge funny house keep walked girlfriend get dress nt hear knock turn service scream girlfriend scream hit floor laughing start talk spanish work place recommend price check online deal good well besite contain deal voucher travel website nt tell</td>\n",
       "    </tr>\n",
       "    <tr>\n",
       "      <th>5</th>\n",
       "      <td>5</td>\n",
       "      <td>love monaco staff husband stay hotel crazy weekend attend memorial service best friend husband celebrate 12th wed anniversary talk mixed emotion book suite hotel monte carlos loan beautiful fantanned goldfish name joliet weekend visit dog work desk human companion room decorate nicely couch use pillow loccitane bath amenity welcome sight room quiet peaceful wireless internet access wonderful server go morning leave problem print board pass afternoon reception serve oenophilesatisfying wine australia scrumptious cooky restaurant closed renovation stay finally eat food good drink well word caution restaurant large person sit booth wo nt fit 56 125 lbs husband 59 175 table smackagainst stomach couple inch space mighty uncomfortable patron large pregnant bad design opinion place decorate funky welcome way metal wood handblown glass light fixture expect seattle capital glass art industry definitely stay reason</td>\n",
       "    </tr>\n",
       "    <tr>\n",
       "      <th>6</th>\n",
       "      <td>5</td>\n",
       "      <td>cozy stay rainy city husband spend 7 night monaco early january 2008 business trip chance come ridewe book monte carlo suite prove comfortable longish stay room 905 locate street build street noise problem view interest room build look dank alley midsection large office building suite comfortable plenty room spread bathroom attractive squeaky clean small comparison generous proportion sit sleep area lots comfortable seating option good light plenty storage clothing luggage hotel staff friendly efficient housekeep staff great job pleasant request respond quicklythe location quite good easy walk pike street market seattle art museum notch shopping din optionsa positive experience</td>\n",
       "    </tr>\n",
       "    <tr>\n",
       "      <th>7</th>\n",
       "      <td>4</td>\n",
       "      <td>excellent staff housekeep quality hotel chock staff make feel home experience exceptional service desk staff concierge door men maid service need work maid fail tuck sheet foot bed instance soil sheet used staff quickley resolve soiled sheet issue guess relate employee reflection rest staffwe receive excellent advice concierge regard resturants area happy hour wine taste nice touch staff go way make feel homegreat location like close good food shopping take play 5th street theather wellpikes market pioneer square access mono rail short walking distance</td>\n",
       "    </tr>\n",
       "    <tr>\n",
       "      <th>8</th>\n",
       "      <td>5</td>\n",
       "      <td>hotel stay hotel monaco cruise room generous decorate uniquely hotel remodel pacific bell build charm sturdiness everytime walk bell men felt like come home secure great single traveler location fabulous walk thing pike market space needlelittle grocerydrug store block away today green bravo 1 double bed room room bed couch separated curtain snore mom sleep curtain great food nearby</td>\n",
       "    </tr>\n",
       "    <tr>\n",
       "      <th>9</th>\n",
       "      <td>5</td>\n",
       "      <td>excellent stay hotel monaco past delight reception staff friendly professional room smart comfortable bed particularly liked reception small dog receive staff guest speak loved mild negative distance uphill ppmarket restaurant 1st overall great experience</td>\n",
       "    </tr>\n",
       "    <tr>\n",
       "      <th>10</th>\n",
       "      <td>2</td>\n",
       "      <td>poor value stay monaco seattle july nice hotel price 100 150 night hotel take beat quotient experience simply average nothing exceptional pay 300 nt ca nt terribly disappointed wife stay nice suite 200night felt like overpay best advice shop qualitywise league average marriott nice best western</td>\n",
       "    </tr>\n",
       "    <tr>\n",
       "      <th>11</th>\n",
       "      <td>4</td>\n",
       "      <td>nice value seattle stayed 4 night late 2007 look comparable hilton marriott westin area pointsmiles nt give monaco shoot pleasantly surprised nice room service quick tasty bed especially comfortable unlike people nothing positive thing say service downside relatively small exercise room treadmill heck east coast time run person 5 day definitely stay</td>\n",
       "    </tr>\n",
       "    <tr>\n",
       "      <th>12</th>\n",
       "      <td>4</td>\n",
       "      <td>nice hotel good location hotel kimpton design whimsical vibe fun staff young casual problem hotel busy stay friendly helpful group reserve room give connect room fuss busy weekthe room decent size huge pretty average city hotel bed nice bathroom clean bright pocket door ideal busy bathroom room design bright cheery flat panel tv location little noisy fine 5th floor location convenient walkable attraction new central library sam art museum benaroya concert hall pike place market park steep 29night even wine reception popular</td>\n",
       "    </tr>\n",
       "    <tr>\n",
       "      <th>13</th>\n",
       "      <td>3</td>\n",
       "      <td>nice hotel nice staff hotel lovely staff quite rude bellhop desk clerk go way make thing difficult wait forever check heavy bag help get throught double door room bad desk clerk check tap tap tap car wait pick 20 minute get home noticed 1000 dollar hold credit card take 5 phonecalls 2 fax 1 week resolve stay warwck 4th lenora room okbut al friendly face tire day airport</td>\n",
       "    </tr>\n",
       "    <tr>\n",
       "      <th>14</th>\n",
       "      <td>4</td>\n",
       "      <td>great hotel night quick business trip love little touch like goldfish leopard print robe complaint wifi complimentary internet access business center great location library service fabulous</td>\n",
       "    </tr>\n",
       "    <tr>\n",
       "      <th>15</th>\n",
       "      <td>1</td>\n",
       "      <td>horrible customer service hotel stay february 3rd 4th 2007my friend pick hotel monaco appeal website online package include champagne late checkout 3 free valet gift spa weekend friend check room hour earlier come later pull valet young man stand asked valet open say pull bag didnçé offer help get garment bag suitcase come car key room number say valet car park car street pull leave key work ask valet park car get go room fine bottle champagne oil lotion gift spa dress go come get bed notice blood drop pillow sheet pillow disgust unbelievable call desk send somebody 20 minute later swap sheet leave apologize sunday morning call desk speak management sheet aggravate rude apparently manager kind supervisor weekend wait monday morning young man speak say cover food add person change sheet say fresh blood rude tone checkout 3pm package book 12 130 staff maid try walk room open door apologize closing people call say check 12 remind package finally pack thing go downstairs check quickly sign paper take way take close look room unfortunately cover food offer charge valet call desk ask charge lady answer snap say aware problem experience monday like tell earlier life treat like hotel sure hotel constantly problem lucky one stay recommend anybody know</td>\n",
       "    </tr>\n",
       "  </tbody>\n",
       "</table>\n",
       "</div>"
      ],
      "text/plain": [
       "    Rating  \\\n",
       "0        4   \n",
       "1        2   \n",
       "2        3   \n",
       "3        5   \n",
       "4        5   \n",
       "5        5   \n",
       "6        5   \n",
       "7        4   \n",
       "8        5   \n",
       "9        5   \n",
       "10       2   \n",
       "11       4   \n",
       "12       4   \n",
       "13       3   \n",
       "14       4   \n",
       "15       1   \n",
       "\n",
       "                                                                                                                                                                                                                                                                                                                                                                                                                                                                                                                                                                                                                                                                                                                                                                                                                                                                                                                                                                                                                                                                                                                                                                                                                                                                                                                                                                                                                                                                                                                                                                                                final_reviews  \n",
       "0                                                                                                                                                                                                                                                                                                                                                                                                                                                                                                                                                                                                                                                                                                                                                                                                                                                                                                                                                                                                                                                                  nice hotel expensive parking get good deal stay hotel anniversary arrive late evening take advice previous review valet park check quick easy little disappointed nonexistent view room room clean nice size bed comfortable woke stiff neck high pillow soundproof like heard music room night morning loud bang door open closing hear people talk hallway maybe noisy neighbor aveda bath product nice goldfish stay nice touch take advantage stay long location great walk distance shop overall nice experience pay 40 parking night  \n",
       "1   ok nothing special charge diamond member hilton decide chain shot 20th anniversary seattle start book suite pay extra website description suite bedroom bathroom standard hotel room take printed reservation desk show say thing like tv couch ect desk clerk tell oh mixed suite description kimpton website sorry free breakfast get kid embassy suit sit room bathroom bedroom unlike kimpton call suite 5 day stay offer correct false advertising send kimpton prefer guest website email ask failure provide suite advertise website reservation description furnish hard copy reservation printout website desk manager duty reply solution send email trip guest survey follow email mail guess tell concern guestthe staff range indifferent helpful ask desk good breakfast spot neighborhood hood tell hotel gee best breakfast spot seattle 12 block away convenient hotel know exist arrive late night 11 pm inside run bellman busy chat cell phone help bagsprior arrival emailed hotel inform 20th anniversary half really picky want make sure good get nice email say like deliver bottle champagne chocolate cover strawberry room arrival celebrate tell need foam pillow arrival champagne strawberry foam pillow great room view alley high rise building good well housekeep staff clean room property impressed leave morning shopping room get short trip 2 hour bed comfortablenot good acheat control 4 x 4 inch screen bring green shine directly eyes night light sensitive tape controlsthis 4 start hotel clean business hotel super high rate better chain hotel seattle  \n",
       "2                                                                                                                                                                                                                                  nice room 4 experience hotel monaco seattle good hotel nt 4 levelpositives large bathroom mediterranean suite comfortable bed pillowsattentive housekeeping staffnegatives ac unit malfunction stay desk disorganize miss 3 separate wakeup call concierge busy hard touch nt provide guidance special requeststv hard use ipod sound dock suite non function decide book mediterranean suite 3 night weekend stay 1st choice rest party fill comparison w spent 45 night large square footage room great soak tub whirlpool jet nice showerbefore stay hotel arrange car service price 53 tip reasonable driver wait arrivalcheckin easy downside room pick 2 person jacuzi tub bath accessory salt bubble bath nt stay night get 121a check voucher bottle champagne nice gesture fish waiting room impression room huge open space felt room big tv far away bed chore change channel ipod dock break disappointingin morning way ask desk check thermostat say 65f 74 2 degree warm try cover face night bright blue light keep get room night 1st drop desk call maintainence come look thermostat tell play setting happy digital box wo nt work ask wakeup 10am morning nt happen call later 6pm nap wakeup forget 10am wakeup morning yep forgottenthe bathroom facility great room surprise room sell whirlpool bath tub nt bath amenity great relax water jet go  \n",
       "3                                                                                                                                                                                                                                                                                                                                                                                                                                                                                                                                                                                                                                                                                                                                                                                                                                                                                                                                                                                                                                            unique great stay wonderful time hotel monaco location excellent short stroll main downtown shop area pet friendly room show sign animal hair smell monaco suite sleep area big strip curtain pull closed nice touch felt cosy goldfish name brandi enjoy nt partake free wine coffeetea service lobby think great feature great staff friendly free wireless internet hotel work suite 2 laptop decor lovely eclectic mix patten color palatte animal print bathrobe feel like rock star nice nt look like sterile chain hotel hotel personality excellent stay  \n",
       "4                                                                                                                                                                                                                                                                                                                                                                                                                                                      great stay great stay go seahawk game awesome downfall view build nt complain room huge staff helpful book hotel website seahawk package charge park get voucher taxi problem taxi driver nt want accept voucher barely speak english funny thing speak arabic call start make comment girlfriend cell phone buddy take second realize say fact speak language face priceless as tell say large city tell head doorman issue call cab company promply answer nt apologize offer pay taxi buck 2 mile stadium game plan taxi return go humpin great walk nt mind right christmas wonderful light homeless stow away build entrance leave police presence great area stadium activity 7 block pike street waterfront great coffee shop way hotel mantained foyer awesome wine taste available even best dog take st bernard time family safes hotel locate service desk room bathroom huge jet tub huge funny house keep walked girlfriend get dress nt hear knock turn service scream girlfriend scream hit floor laughing start talk spanish work place recommend price check online deal good well besite contain deal voucher travel website nt tell  \n",
       "5                                                                                                                                                                                                                                                                                                                                                                                                                                                                                                                                                                                                                                                      love monaco staff husband stay hotel crazy weekend attend memorial service best friend husband celebrate 12th wed anniversary talk mixed emotion book suite hotel monte carlos loan beautiful fantanned goldfish name joliet weekend visit dog work desk human companion room decorate nicely couch use pillow loccitane bath amenity welcome sight room quiet peaceful wireless internet access wonderful server go morning leave problem print board pass afternoon reception serve oenophilesatisfying wine australia scrumptious cooky restaurant closed renovation stay finally eat food good drink well word caution restaurant large person sit booth wo nt fit 56 125 lbs husband 59 175 table smackagainst stomach couple inch space mighty uncomfortable patron large pregnant bad design opinion place decorate funky welcome way metal wood handblown glass light fixture expect seattle capital glass art industry definitely stay reason  \n",
       "6                                                                                                                                                                                                                                                                                                                                                                                                                                                                                                                                                                                                                                                                                                                                                                                                                                                                                              cozy stay rainy city husband spend 7 night monaco early january 2008 business trip chance come ridewe book monte carlo suite prove comfortable longish stay room 905 locate street build street noise problem view interest room build look dank alley midsection large office building suite comfortable plenty room spread bathroom attractive squeaky clean small comparison generous proportion sit sleep area lots comfortable seating option good light plenty storage clothing luggage hotel staff friendly efficient housekeep staff great job pleasant request respond quicklythe location quite good easy walk pike street market seattle art museum notch shopping din optionsa positive experience  \n",
       "7                                                                                                                                                                                                                                                                                                                                                                                                                                                                                                                                                                                                                                                                                                                                                                                                                                                                                                                                                                                                                              excellent staff housekeep quality hotel chock staff make feel home experience exceptional service desk staff concierge door men maid service need work maid fail tuck sheet foot bed instance soil sheet used staff quickley resolve soiled sheet issue guess relate employee reflection rest staffwe receive excellent advice concierge regard resturants area happy hour wine taste nice touch staff go way make feel homegreat location like close good food shopping take play 5th street theather wellpikes market pioneer square access mono rail short walking distance  \n",
       "8                                                                                                                                                                                                                                                                                                                                                                                                                                                                                                                                                                                                                                                                                                                                                                                                                                                                                                                                                                                                                                                                                                                                                                                                           hotel stay hotel monaco cruise room generous decorate uniquely hotel remodel pacific bell build charm sturdiness everytime walk bell men felt like come home secure great single traveler location fabulous walk thing pike market space needlelittle grocerydrug store block away today green bravo 1 double bed room room bed couch separated curtain snore mom sleep curtain great food nearby  \n",
       "9                                                                                                                                                                                                                                                                                                                                                                                                                                                                                                                                                                                                                                                                                                                                                                                                                                                                                                                                                                                                                                                                                                                                                                                                                                                                                                                                             excellent stay hotel monaco past delight reception staff friendly professional room smart comfortable bed particularly liked reception small dog receive staff guest speak loved mild negative distance uphill ppmarket restaurant 1st overall great experience  \n",
       "10                                                                                                                                                                                                                                                                                                                                                                                                                                                                                                                                                                                                                                                                                                                                                                                                                                                                                                                                                                                                                                                                                                                                                                                                                                                                                                    poor value stay monaco seattle july nice hotel price 100 150 night hotel take beat quotient experience simply average nothing exceptional pay 300 nt ca nt terribly disappointed wife stay nice suite 200night felt like overpay best advice shop qualitywise league average marriott nice best western  \n",
       "11                                                                                                                                                                                                                                                                                                                                                                                                                                                                                                                                                                                                                                                                                                                                                                                                                                                                                                                                                                                                                                                                                                                                                                                                                                            nice value seattle stayed 4 night late 2007 look comparable hilton marriott westin area pointsmiles nt give monaco shoot pleasantly surprised nice room service quick tasty bed especially comfortable unlike people nothing positive thing say service downside relatively small exercise room treadmill heck east coast time run person 5 day definitely stay  \n",
       "12                                                                                                                                                                                                                                                                                                                                                                                                                                                                                                                                                                                                                                                                                                                                                                                                                                                                                                                                                                                                                                                          nice hotel good location hotel kimpton design whimsical vibe fun staff young casual problem hotel busy stay friendly helpful group reserve room give connect room fuss busy weekthe room decent size huge pretty average city hotel bed nice bathroom clean bright pocket door ideal busy bathroom room design bright cheery flat panel tv location little noisy fine 5th floor location convenient walkable attraction new central library sam art museum benaroya concert hall pike place market park steep 29night even wine reception popular  \n",
       "13                                                                                                                                                                                                                                                                                                                                                                                                                                                                                                                                                                                                                                                                                                                                                                                                                                                                                                                                                                                                                                                                                                                                                                                                                       nice hotel nice staff hotel lovely staff quite rude bellhop desk clerk go way make thing difficult wait forever check heavy bag help get throught double door room bad desk clerk check tap tap tap car wait pick 20 minute get home noticed 1000 dollar hold credit card take 5 phonecalls 2 fax 1 week resolve stay warwck 4th lenora room okbut al friendly face tire day airport  \n",
       "14                                                                                                                                                                                                                                                                                                                                                                                                                                                                                                                                                                                                                                                                                                                                                                                                                                                                                                                                                                                                                                                                                                                                                                                                                                                                                                                                                                                                              great hotel night quick business trip love little touch like goldfish leopard print robe complaint wifi complimentary internet access business center great location library service fabulous  \n",
       "15                                                                                                                                                                                                                                                                                             horrible customer service hotel stay february 3rd 4th 2007my friend pick hotel monaco appeal website online package include champagne late checkout 3 free valet gift spa weekend friend check room hour earlier come later pull valet young man stand asked valet open say pull bag didnçé offer help get garment bag suitcase come car key room number say valet car park car street pull leave key work ask valet park car get go room fine bottle champagne oil lotion gift spa dress go come get bed notice blood drop pillow sheet pillow disgust unbelievable call desk send somebody 20 minute later swap sheet leave apologize sunday morning call desk speak management sheet aggravate rude apparently manager kind supervisor weekend wait monday morning young man speak say cover food add person change sheet say fresh blood rude tone checkout 3pm package book 12 130 staff maid try walk room open door apologize closing people call say check 12 remind package finally pack thing go downstairs check quickly sign paper take way take close look room unfortunately cover food offer charge valet call desk ask charge lady answer snap say aware problem experience monday like tell earlier life treat like hotel sure hotel constantly problem lucky one stay recommend anybody know  "
      ]
     },
     "execution_count": 13,
     "metadata": {},
     "output_type": "execute_result"
    }
   ],
   "source": [
    "pd.set_option(\"display.max_colwidth\", None)\n",
    "data.head(16)"
   ]
  },
  {
   "cell_type": "markdown",
   "id": "f4636768",
   "metadata": {},
   "source": [
    "Testing Vader Sentiment Analyzer"
   ]
  },
  {
   "cell_type": "markdown",
   "id": "1bab7c03",
   "metadata": {},
   "source": [
    "Finding and remvoing most frequently used words as they are driving up the compound score"
   ]
  },
  {
   "cell_type": "code",
   "execution_count": 14,
   "id": "a6359ada",
   "metadata": {},
   "outputs": [
    {
     "data": {
      "text/plain": [
       "[('hotel', 52808),\n",
       " ('room', 46319),\n",
       " ('stay', 26763),\n",
       " ('great', 21236),\n",
       " ('nt', 18993),\n",
       " ('good', 18266),\n",
       " ('staff', 16314),\n",
       " ('night', 13726),\n",
       " ('nice', 12848),\n",
       " ('day', 12726)]"
      ]
     },
     "execution_count": 14,
     "metadata": {},
     "output_type": "execute_result"
    }
   ],
   "source": [
    "from collections import Counter\n",
    "\n",
    "count = Counter()\n",
    "\n",
    "for text in data['final_reviews'].values:\n",
    "    for word in text.split():\n",
    "        count[word] = count[word] + 1\n",
    "\n",
    "count.most_common(10)"
   ]
  },
  {
   "cell_type": "code",
   "execution_count": 15,
   "id": "39200286",
   "metadata": {},
   "outputs": [
    {
     "data": {
      "text/html": [
       "<div>\n",
       "<style scoped>\n",
       "    .dataframe tbody tr th:only-of-type {\n",
       "        vertical-align: middle;\n",
       "    }\n",
       "\n",
       "    .dataframe tbody tr th {\n",
       "        vertical-align: top;\n",
       "    }\n",
       "\n",
       "    .dataframe thead th {\n",
       "        text-align: right;\n",
       "    }\n",
       "</style>\n",
       "<table border=\"1\" class=\"dataframe\">\n",
       "  <thead>\n",
       "    <tr style=\"text-align: right;\">\n",
       "      <th></th>\n",
       "      <th>Rating</th>\n",
       "      <th>final_reviews</th>\n",
       "      <th>final</th>\n",
       "    </tr>\n",
       "  </thead>\n",
       "  <tbody>\n",
       "    <tr>\n",
       "      <th>0</th>\n",
       "      <td>4</td>\n",
       "      <td>nice hotel expensive parking get good deal stay hotel anniversary arrive late evening take advice previous review valet park check quick easy little disappointed nonexistent view room room clean nice size bed comfortable woke stiff neck high pillow soundproof like heard music room night morning loud bang door open closing hear people talk hallway maybe noisy neighbor aveda bath product nice goldfish stay nice touch take advantage stay long location great walk distance shop overall nice experience pay 40 parking night</td>\n",
       "      <td>expensive parking get deal anniversary arrive late evening take advice previous review valet park check quick easy little disappointed nonexistent view clean size bed comfortable woke stiff neck high pillow soundproof like heard music morning loud bang door open closing hear people talk hallway maybe noisy neighbor aveda bath product goldfish touch take advantage long location walk distance shop overall experience pay 40 parking</td>\n",
       "    </tr>\n",
       "    <tr>\n",
       "      <th>1</th>\n",
       "      <td>2</td>\n",
       "      <td>ok nothing special charge diamond member hilton decide chain shot 20th anniversary seattle start book suite pay extra website description suite bedroom bathroom standard hotel room take printed reservation desk show say thing like tv couch ect desk clerk tell oh mixed suite description kimpton website sorry free breakfast get kid embassy suit sit room bathroom bedroom unlike kimpton call suite 5 day stay offer correct false advertising send kimpton prefer guest website email ask failure provide suite advertise website reservation description furnish hard copy reservation printout website desk manager duty reply solution send email trip guest survey follow email mail guess tell concern guestthe staff range indifferent helpful ask desk good breakfast spot neighborhood hood tell hotel gee best breakfast spot seattle 12 block away convenient hotel know exist arrive late night 11 pm inside run bellman busy chat cell phone help bagsprior arrival emailed hotel inform 20th anniversary half really picky want make sure good get nice email say like deliver bottle champagne chocolate cover strawberry room arrival celebrate tell need foam pillow arrival champagne strawberry foam pillow great room view alley high rise building good well housekeep staff clean room property impressed leave morning shopping room get short trip 2 hour bed comfortablenot good acheat control 4 x 4 inch screen bring green shine directly eyes night light sensitive tape controlsthis 4 start hotel clean business hotel super high rate better chain hotel seattle</td>\n",
       "      <td>ok nothing special charge diamond member hilton decide chain shot 20th anniversary seattle start book suite pay extra website description suite bedroom bathroom standard take printed reservation desk show say thing like tv couch ect desk clerk tell oh mixed suite description kimpton website sorry free breakfast get kid embassy suit sit bathroom bedroom unlike kimpton call suite 5 offer correct false advertising send kimpton prefer guest website email ask failure provide suite advertise website reservation description furnish hard copy reservation printout website desk manager duty reply solution send email trip guest survey follow email mail guess tell concern guestthe range indifferent helpful ask desk breakfast spot neighborhood hood tell gee best breakfast spot seattle 12 block away convenient know exist arrive late 11 pm inside run bellman busy chat cell phone help bagsprior arrival emailed inform 20th anniversary half really picky want make sure get email say like deliver bottle champagne chocolate cover strawberry arrival celebrate tell need foam pillow arrival champagne strawberry foam pillow view alley high rise building well housekeep clean property impressed leave morning shopping get short trip 2 hour bed comfortablenot acheat control 4 x 4 inch screen bring green shine directly eyes light sensitive tape controlsthis 4 start clean business super high rate better chain seattle</td>\n",
       "    </tr>\n",
       "  </tbody>\n",
       "</table>\n",
       "</div>"
      ],
      "text/plain": [
       "   Rating  \\\n",
       "0       4   \n",
       "1       2   \n",
       "\n",
       "                                                                                                                                                                                                                                                                                                                                                                                                                                                                                                                                                                                                                                                                                                                                                                                                                                                                                                                                                                                                                                                                                                                                                                                                                                                                                                                                                                                                                                                                                                                                                                                               final_reviews  \\\n",
       "0                                                                                                                                                                                                                                                                                                                                                                                                                                                                                                                                                                                                                                                                                                                                                                                                                                                                                                                                                                                                                                                                 nice hotel expensive parking get good deal stay hotel anniversary arrive late evening take advice previous review valet park check quick easy little disappointed nonexistent view room room clean nice size bed comfortable woke stiff neck high pillow soundproof like heard music room night morning loud bang door open closing hear people talk hallway maybe noisy neighbor aveda bath product nice goldfish stay nice touch take advantage stay long location great walk distance shop overall nice experience pay 40 parking night   \n",
       "1  ok nothing special charge diamond member hilton decide chain shot 20th anniversary seattle start book suite pay extra website description suite bedroom bathroom standard hotel room take printed reservation desk show say thing like tv couch ect desk clerk tell oh mixed suite description kimpton website sorry free breakfast get kid embassy suit sit room bathroom bedroom unlike kimpton call suite 5 day stay offer correct false advertising send kimpton prefer guest website email ask failure provide suite advertise website reservation description furnish hard copy reservation printout website desk manager duty reply solution send email trip guest survey follow email mail guess tell concern guestthe staff range indifferent helpful ask desk good breakfast spot neighborhood hood tell hotel gee best breakfast spot seattle 12 block away convenient hotel know exist arrive late night 11 pm inside run bellman busy chat cell phone help bagsprior arrival emailed hotel inform 20th anniversary half really picky want make sure good get nice email say like deliver bottle champagne chocolate cover strawberry room arrival celebrate tell need foam pillow arrival champagne strawberry foam pillow great room view alley high rise building good well housekeep staff clean room property impressed leave morning shopping room get short trip 2 hour bed comfortablenot good acheat control 4 x 4 inch screen bring green shine directly eyes night light sensitive tape controlsthis 4 start hotel clean business hotel super high rate better chain hotel seattle   \n",
       "\n",
       "                                                                                                                                                                                                                                                                                                                                                                                                                                                                                                                                                                                                                                                                                                                                                                                                                                                                                                                                                                                                                                                                                                                                                                                                                                                                                                                                                                                                                                                               final  \n",
       "0                                                                                                                                                                                                                                                                                                                                                                                                                                                                                                                                                                                                                                                                                                                                                                                                                                                                                                                                                                                                                   expensive parking get deal anniversary arrive late evening take advice previous review valet park check quick easy little disappointed nonexistent view clean size bed comfortable woke stiff neck high pillow soundproof like heard music morning loud bang door open closing hear people talk hallway maybe noisy neighbor aveda bath product goldfish touch take advantage long location walk distance shop overall experience pay 40 parking  \n",
       "1  ok nothing special charge diamond member hilton decide chain shot 20th anniversary seattle start book suite pay extra website description suite bedroom bathroom standard take printed reservation desk show say thing like tv couch ect desk clerk tell oh mixed suite description kimpton website sorry free breakfast get kid embassy suit sit bathroom bedroom unlike kimpton call suite 5 offer correct false advertising send kimpton prefer guest website email ask failure provide suite advertise website reservation description furnish hard copy reservation printout website desk manager duty reply solution send email trip guest survey follow email mail guess tell concern guestthe range indifferent helpful ask desk breakfast spot neighborhood hood tell gee best breakfast spot seattle 12 block away convenient know exist arrive late 11 pm inside run bellman busy chat cell phone help bagsprior arrival emailed inform 20th anniversary half really picky want make sure get email say like deliver bottle champagne chocolate cover strawberry arrival celebrate tell need foam pillow arrival champagne strawberry foam pillow view alley high rise building well housekeep clean property impressed leave morning shopping get short trip 2 hour bed comfortablenot acheat control 4 x 4 inch screen bring green shine directly eyes light sensitive tape controlsthis 4 start clean business super high rate better chain seattle  "
      ]
     },
     "execution_count": 15,
     "metadata": {},
     "output_type": "execute_result"
    }
   ],
   "source": [
    "Freq_word = set([i for (i, j) in count.most_common(10)])\n",
    "\n",
    "\n",
    "def del_freq_word(text):\n",
    "\n",
    "    return \" \".join([word for word in str(text).split() if word not in Freq_word])\n",
    "\n",
    "data['final'] = data['final_reviews'].apply(lambda text: del_freq_word(text))\n",
    "\n",
    "data.head(2)"
   ]
  },
  {
   "cell_type": "code",
   "execution_count": 16,
   "id": "de279379",
   "metadata": {},
   "outputs": [
    {
     "data": {
      "text/html": [
       "<div>\n",
       "<style scoped>\n",
       "    .dataframe tbody tr th:only-of-type {\n",
       "        vertical-align: middle;\n",
       "    }\n",
       "\n",
       "    .dataframe tbody tr th {\n",
       "        vertical-align: top;\n",
       "    }\n",
       "\n",
       "    .dataframe thead th {\n",
       "        text-align: right;\n",
       "    }\n",
       "</style>\n",
       "<table border=\"1\" class=\"dataframe\">\n",
       "  <thead>\n",
       "    <tr style=\"text-align: right;\">\n",
       "      <th></th>\n",
       "      <th>Rating</th>\n",
       "      <th>final</th>\n",
       "    </tr>\n",
       "  </thead>\n",
       "  <tbody>\n",
       "    <tr>\n",
       "      <th>0</th>\n",
       "      <td>4</td>\n",
       "      <td>expensive parking get deal anniversary arrive late evening take advice previous review valet park check quick easy little disappointed nonexistent view clean size bed comfortable woke stiff neck high pillow soundproof like heard music morning loud bang door open closing hear people talk hallway maybe noisy neighbor aveda bath product goldfish touch take advantage long location walk distance shop overall experience pay 40 parking</td>\n",
       "    </tr>\n",
       "    <tr>\n",
       "      <th>1</th>\n",
       "      <td>2</td>\n",
       "      <td>ok nothing special charge diamond member hilton decide chain shot 20th anniversary seattle start book suite pay extra website description suite bedroom bathroom standard take printed reservation desk show say thing like tv couch ect desk clerk tell oh mixed suite description kimpton website sorry free breakfast get kid embassy suit sit bathroom bedroom unlike kimpton call suite 5 offer correct false advertising send kimpton prefer guest website email ask failure provide suite advertise website reservation description furnish hard copy reservation printout website desk manager duty reply solution send email trip guest survey follow email mail guess tell concern guestthe range indifferent helpful ask desk breakfast spot neighborhood hood tell gee best breakfast spot seattle 12 block away convenient know exist arrive late 11 pm inside run bellman busy chat cell phone help bagsprior arrival emailed inform 20th anniversary half really picky want make sure get email say like deliver bottle champagne chocolate cover strawberry arrival celebrate tell need foam pillow arrival champagne strawberry foam pillow view alley high rise building well housekeep clean property impressed leave morning shopping get short trip 2 hour bed comfortablenot acheat control 4 x 4 inch screen bring green shine directly eyes light sensitive tape controlsthis 4 start clean business super high rate better chain seattle</td>\n",
       "    </tr>\n",
       "  </tbody>\n",
       "</table>\n",
       "</div>"
      ],
      "text/plain": [
       "   Rating  \\\n",
       "0       4   \n",
       "1       2   \n",
       "\n",
       "                                                                                                                                                                                                                                                                                                                                                                                                                                                                                                                                                                                                                                                                                                                                                                                                                                                                                                                                                                                                                                                                                                                                                                                                                                                                                                                                                                                                                                                               final  \n",
       "0                                                                                                                                                                                                                                                                                                                                                                                                                                                                                                                                                                                                                                                                                                                                                                                                                                                                                                                                                                                                                   expensive parking get deal anniversary arrive late evening take advice previous review valet park check quick easy little disappointed nonexistent view clean size bed comfortable woke stiff neck high pillow soundproof like heard music morning loud bang door open closing hear people talk hallway maybe noisy neighbor aveda bath product goldfish touch take advantage long location walk distance shop overall experience pay 40 parking  \n",
       "1  ok nothing special charge diamond member hilton decide chain shot 20th anniversary seattle start book suite pay extra website description suite bedroom bathroom standard take printed reservation desk show say thing like tv couch ect desk clerk tell oh mixed suite description kimpton website sorry free breakfast get kid embassy suit sit bathroom bedroom unlike kimpton call suite 5 offer correct false advertising send kimpton prefer guest website email ask failure provide suite advertise website reservation description furnish hard copy reservation printout website desk manager duty reply solution send email trip guest survey follow email mail guess tell concern guestthe range indifferent helpful ask desk breakfast spot neighborhood hood tell gee best breakfast spot seattle 12 block away convenient know exist arrive late 11 pm inside run bellman busy chat cell phone help bagsprior arrival emailed inform 20th anniversary half really picky want make sure get email say like deliver bottle champagne chocolate cover strawberry arrival celebrate tell need foam pillow arrival champagne strawberry foam pillow view alley high rise building well housekeep clean property impressed leave morning shopping get short trip 2 hour bed comfortablenot acheat control 4 x 4 inch screen bring green shine directly eyes light sensitive tape controlsthis 4 start clean business super high rate better chain seattle  "
      ]
     },
     "execution_count": 16,
     "metadata": {},
     "output_type": "execute_result"
    }
   ],
   "source": [
    "data.drop(['final_reviews'],axis= 1,inplace = True)\n",
    "data.head(2)"
   ]
  },
  {
   "cell_type": "code",
   "execution_count": 17,
   "id": "d98850b6",
   "metadata": {},
   "outputs": [
    {
     "data": {
      "text/plain": [
       "{'neg': 0.097, 'neu': 0.582, 'pos': 0.321, 'compound': 0.7964}"
      ]
     },
     "execution_count": 17,
     "metadata": {},
     "output_type": "execute_result"
    }
   ],
   "source": [
    "from nltk.sentiment.vader import SentimentIntensityAnalyzer\n",
    "\n",
    "sia = SentimentIntensityAnalyzer()\n",
    "\n",
    "sia.polarity_scores(\"horrible customer service hotel stay february 3rd 4th 2007my friend picked hotel monaco appealing website online package included champagne late checkout 3 free valet gift spa weekend \")"
   ]
  },
  {
   "cell_type": "code",
   "execution_count": 18,
   "id": "b1d74055",
   "metadata": {},
   "outputs": [],
   "source": [
    "data['scores'] = data['final'].apply(lambda review: sia.polarity_scores(review))\n",
    "\n",
    "data['compound']  = data['scores'].apply(lambda score_dict: score_dict['compound'])\n",
    "\n",
    "data['comp_score'] = data['compound'].apply(lambda c: 'positive' if c >=0 else 'negative')"
   ]
  },
  {
   "cell_type": "code",
   "execution_count": 20,
   "id": "2eb83f49",
   "metadata": {},
   "outputs": [
    {
     "data": {
      "text/html": [
       "<div>\n",
       "<style scoped>\n",
       "    .dataframe tbody tr th:only-of-type {\n",
       "        vertical-align: middle;\n",
       "    }\n",
       "\n",
       "    .dataframe tbody tr th {\n",
       "        vertical-align: top;\n",
       "    }\n",
       "\n",
       "    .dataframe thead th {\n",
       "        text-align: right;\n",
       "    }\n",
       "</style>\n",
       "<table border=\"1\" class=\"dataframe\">\n",
       "  <thead>\n",
       "    <tr style=\"text-align: right;\">\n",
       "      <th></th>\n",
       "      <th>Rating</th>\n",
       "      <th>final</th>\n",
       "      <th>scores</th>\n",
       "      <th>compound</th>\n",
       "      <th>comp_score</th>\n",
       "    </tr>\n",
       "  </thead>\n",
       "  <tbody>\n",
       "    <tr>\n",
       "      <th>0</th>\n",
       "      <td>4</td>\n",
       "      <td>expensive parking get deal anniversary arrive late evening take advice previous review valet park check quick easy little disappointed nonexistent view clean size bed comfortable woke stiff neck high pillow soundproof like heard music morning loud bang door open closing hear people talk hallway maybe noisy neighbor aveda bath product goldfish touch take advantage long location walk distance shop overall experience pay 40 parking</td>\n",
       "      <td>{'neg': 0.078, 'neu': 0.744, 'pos': 0.178, 'compound': 0.8173}</td>\n",
       "      <td>0.8173</td>\n",
       "      <td>positive</td>\n",
       "    </tr>\n",
       "    <tr>\n",
       "      <th>1</th>\n",
       "      <td>2</td>\n",
       "      <td>ok nothing special charge diamond member hilton decide chain shot 20th anniversary seattle start book suite pay extra website description suite bedroom bathroom standard take printed reservation desk show say thing like tv couch ect desk clerk tell oh mixed suite description kimpton website sorry free breakfast get kid embassy suit sit bathroom bedroom unlike kimpton call suite 5 offer correct false advertising send kimpton prefer guest website email ask failure provide suite advertise website reservation description furnish hard copy reservation printout website desk manager duty reply solution send email trip guest survey follow email mail guess tell concern guestthe range indifferent helpful ask desk breakfast spot neighborhood hood tell gee best breakfast spot seattle 12 block away convenient know exist arrive late 11 pm inside run bellman busy chat cell phone help bagsprior arrival emailed inform 20th anniversary half really picky want make sure get email say like deliver bottle champagne chocolate cover strawberry arrival celebrate tell need foam pillow arrival champagne strawberry foam pillow view alley high rise building well housekeep clean property impressed leave morning shopping get short trip 2 hour bed comfortablenot acheat control 4 x 4 inch screen bring green shine directly eyes light sensitive tape controlsthis 4 start clean business super high rate better chain seattle</td>\n",
       "      <td>{'neg': 0.071, 'neu': 0.719, 'pos': 0.21, 'compound': 0.9875}</td>\n",
       "      <td>0.9875</td>\n",
       "      <td>positive</td>\n",
       "    </tr>\n",
       "    <tr>\n",
       "      <th>2</th>\n",
       "      <td>3</td>\n",
       "      <td>4 experience monaco seattle 4 levelpositives large bathroom mediterranean suite comfortable bed pillowsattentive housekeeping staffnegatives ac unit malfunction desk disorganize miss 3 separate wakeup call concierge busy hard touch provide guidance special requeststv hard use ipod sound dock suite non function decide book mediterranean suite 3 weekend 1st choice rest party fill comparison w spent 45 large square footage soak tub whirlpool jet showerbefore arrange car service price 53 tip reasonable driver wait arrivalcheckin easy downside pick 2 person jacuzi tub bath accessory salt bubble bath get 121a check voucher bottle champagne gesture fish waiting impression huge open space felt big tv far away bed chore change channel ipod dock break disappointingin morning way ask desk check thermostat say 65f 74 2 degree warm try cover face bright blue light keep get 1st drop desk call maintainence come look thermostat tell play setting happy digital box wo work ask wakeup 10am morning happen call later 6pm nap wakeup forget 10am wakeup morning yep forgottenthe bathroom facility surprise sell whirlpool bath tub bath amenity relax water jet go</td>\n",
       "      <td>{'neg': 0.053, 'neu': 0.763, 'pos': 0.184, 'compound': 0.9769}</td>\n",
       "      <td>0.9769</td>\n",
       "      <td>positive</td>\n",
       "    </tr>\n",
       "    <tr>\n",
       "      <th>3</th>\n",
       "      <td>5</td>\n",
       "      <td>unique wonderful time monaco location excellent short stroll main downtown shop area pet friendly show sign animal hair smell monaco suite sleep area big strip curtain pull closed touch felt cosy goldfish name brandi enjoy partake free wine coffeetea service lobby think feature friendly free wireless internet work suite 2 laptop decor lovely eclectic mix patten color palatte animal print bathrobe feel like rock star look like sterile chain personality excellent</td>\n",
       "      <td>{'neg': 0.0, 'neu': 0.609, 'pos': 0.391, 'compound': 0.9884}</td>\n",
       "      <td>0.9884</td>\n",
       "      <td>positive</td>\n",
       "    </tr>\n",
       "    <tr>\n",
       "      <th>4</th>\n",
       "      <td>5</td>\n",
       "      <td>go seahawk game awesome downfall view build complain huge helpful book website seahawk package charge park get voucher taxi problem taxi driver want accept voucher barely speak english funny thing speak arabic call start make comment girlfriend cell phone buddy take second realize say fact speak language face priceless as tell say large city tell head doorman issue call cab company promply answer apologize offer pay taxi buck 2 mile stadium game plan taxi return go humpin walk mind right christmas wonderful light homeless stow away build entrance leave police presence area stadium activity 7 block pike street waterfront coffee shop way mantained foyer awesome wine taste available even best dog take st bernard time family safes locate service desk bathroom huge jet tub huge funny house keep walked girlfriend get dress hear knock turn service scream girlfriend scream hit floor laughing start talk spanish work place recommend price check online deal well besite contain deal voucher travel website tell</td>\n",
       "      <td>{'neg': 0.082, 'neu': 0.685, 'pos': 0.233, 'compound': 0.9808}</td>\n",
       "      <td>0.9808</td>\n",
       "      <td>positive</td>\n",
       "    </tr>\n",
       "  </tbody>\n",
       "</table>\n",
       "</div>"
      ],
      "text/plain": [
       "   Rating  \\\n",
       "0       4   \n",
       "1       2   \n",
       "2       3   \n",
       "3       5   \n",
       "4       5   \n",
       "\n",
       "                                                                                                                                                                                                                                                                                                                                                                                                                                                                                                                                                                                                                                                                                                                                                                                                                                                                                                                                                                                                                                                                                                                                                                                                                                                                                                                                                                                                                                                               final  \\\n",
       "0                                                                                                                                                                                                                                                                                                                                                                                                                                                                                                                                                                                                                                                                                                                                                                                                                                                                                                                                                                                                                   expensive parking get deal anniversary arrive late evening take advice previous review valet park check quick easy little disappointed nonexistent view clean size bed comfortable woke stiff neck high pillow soundproof like heard music morning loud bang door open closing hear people talk hallway maybe noisy neighbor aveda bath product goldfish touch take advantage long location walk distance shop overall experience pay 40 parking   \n",
       "1  ok nothing special charge diamond member hilton decide chain shot 20th anniversary seattle start book suite pay extra website description suite bedroom bathroom standard take printed reservation desk show say thing like tv couch ect desk clerk tell oh mixed suite description kimpton website sorry free breakfast get kid embassy suit sit bathroom bedroom unlike kimpton call suite 5 offer correct false advertising send kimpton prefer guest website email ask failure provide suite advertise website reservation description furnish hard copy reservation printout website desk manager duty reply solution send email trip guest survey follow email mail guess tell concern guestthe range indifferent helpful ask desk breakfast spot neighborhood hood tell gee best breakfast spot seattle 12 block away convenient know exist arrive late 11 pm inside run bellman busy chat cell phone help bagsprior arrival emailed inform 20th anniversary half really picky want make sure get email say like deliver bottle champagne chocolate cover strawberry arrival celebrate tell need foam pillow arrival champagne strawberry foam pillow view alley high rise building well housekeep clean property impressed leave morning shopping get short trip 2 hour bed comfortablenot acheat control 4 x 4 inch screen bring green shine directly eyes light sensitive tape controlsthis 4 start clean business super high rate better chain seattle   \n",
       "2                                                                                                                                                                                                                                                                  4 experience monaco seattle 4 levelpositives large bathroom mediterranean suite comfortable bed pillowsattentive housekeeping staffnegatives ac unit malfunction desk disorganize miss 3 separate wakeup call concierge busy hard touch provide guidance special requeststv hard use ipod sound dock suite non function decide book mediterranean suite 3 weekend 1st choice rest party fill comparison w spent 45 large square footage soak tub whirlpool jet showerbefore arrange car service price 53 tip reasonable driver wait arrivalcheckin easy downside pick 2 person jacuzi tub bath accessory salt bubble bath get 121a check voucher bottle champagne gesture fish waiting impression huge open space felt big tv far away bed chore change channel ipod dock break disappointingin morning way ask desk check thermostat say 65f 74 2 degree warm try cover face bright blue light keep get 1st drop desk call maintainence come look thermostat tell play setting happy digital box wo work ask wakeup 10am morning happen call later 6pm nap wakeup forget 10am wakeup morning yep forgottenthe bathroom facility surprise sell whirlpool bath tub bath amenity relax water jet go   \n",
       "3                                                                                                                                                                                                                                                                                                                                                                                                                                                                                                                                                                                                                                                                                                                                                                                                                                                                                                                                                                                  unique wonderful time monaco location excellent short stroll main downtown shop area pet friendly show sign animal hair smell monaco suite sleep area big strip curtain pull closed touch felt cosy goldfish name brandi enjoy partake free wine coffeetea service lobby think feature friendly free wireless internet work suite 2 laptop decor lovely eclectic mix patten color palatte animal print bathrobe feel like rock star look like sterile chain personality excellent   \n",
       "4                                                                                                                                                                                                                                                                                                                                                                                                              go seahawk game awesome downfall view build complain huge helpful book website seahawk package charge park get voucher taxi problem taxi driver want accept voucher barely speak english funny thing speak arabic call start make comment girlfriend cell phone buddy take second realize say fact speak language face priceless as tell say large city tell head doorman issue call cab company promply answer apologize offer pay taxi buck 2 mile stadium game plan taxi return go humpin walk mind right christmas wonderful light homeless stow away build entrance leave police presence area stadium activity 7 block pike street waterfront coffee shop way mantained foyer awesome wine taste available even best dog take st bernard time family safes locate service desk bathroom huge jet tub huge funny house keep walked girlfriend get dress hear knock turn service scream girlfriend scream hit floor laughing start talk spanish work place recommend price check online deal well besite contain deal voucher travel website tell   \n",
       "\n",
       "                                                           scores  compound  \\\n",
       "0  {'neg': 0.078, 'neu': 0.744, 'pos': 0.178, 'compound': 0.8173}    0.8173   \n",
       "1   {'neg': 0.071, 'neu': 0.719, 'pos': 0.21, 'compound': 0.9875}    0.9875   \n",
       "2  {'neg': 0.053, 'neu': 0.763, 'pos': 0.184, 'compound': 0.9769}    0.9769   \n",
       "3    {'neg': 0.0, 'neu': 0.609, 'pos': 0.391, 'compound': 0.9884}    0.9884   \n",
       "4  {'neg': 0.082, 'neu': 0.685, 'pos': 0.233, 'compound': 0.9808}    0.9808   \n",
       "\n",
       "  comp_score  \n",
       "0   positive  \n",
       "1   positive  \n",
       "2   positive  \n",
       "3   positive  \n",
       "4   positive  "
      ]
     },
     "execution_count": 20,
     "metadata": {},
     "output_type": "execute_result"
    }
   ],
   "source": [
    "data.head(5)"
   ]
  },
  {
   "cell_type": "code",
   "execution_count": null,
   "id": "18208347",
   "metadata": {},
   "outputs": [],
   "source": []
  }
 ],
 "metadata": {
  "kernelspec": {
   "display_name": "Python 3 (ipykernel)",
   "language": "python",
   "name": "python3"
  },
  "language_info": {
   "codemirror_mode": {
    "name": "ipython",
    "version": 3
   },
   "file_extension": ".py",
   "mimetype": "text/x-python",
   "name": "python",
   "nbconvert_exporter": "python",
   "pygments_lexer": "ipython3",
   "version": "3.9.12"
  }
 },
 "nbformat": 4,
 "nbformat_minor": 5
}
